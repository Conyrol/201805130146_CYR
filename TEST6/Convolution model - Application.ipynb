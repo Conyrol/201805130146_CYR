{
 "cells": [
  {
   "cell_type": "markdown",
   "metadata": {},
   "source": [
    "# Convolutional Neural Networks: Application\n",
    "\n",
    "Welcome to Course 4's second assignment! In this notebook, you will:\n",
    "\n",
    "- Implement helper functions that you will use when implementing a TensorFlow model\n",
    "- Implement a fully functioning ConvNet using TensorFlow \n",
    "\n",
    "**After this assignment you will be able to:**\n",
    "\n",
    "- Build and train a ConvNet in TensorFlow for a classification problem \n",
    "\n",
    "We assume here that you are already familiar with TensorFlow. If you are not, please refer the *TensorFlow Tutorial* of the third week of Course 2 (\"*Improving deep neural networks*\")."
   ]
  },
  {
   "cell_type": "markdown",
   "metadata": {},
   "source": [
    "## 1.0 - TensorFlow model\n",
    "\n",
    "In the previous assignment, you built helper functions using numpy to understand the mechanics behind convolutional neural networks. Most practical applications of deep learning today are built using programming frameworks, which have many built-in functions you can simply call. \n",
    "\n",
    "As usual, we will start by loading in the packages. "
   ]
  },
  {
   "cell_type": "code",
   "execution_count": 5,
   "metadata": {
    "collapsed": true,
    "jupyter": {
     "outputs_hidden": true
    }
   },
   "outputs": [],
   "source": [
    "import math\n",
    "import numpy as np\n",
    "import h5py\n",
    "import matplotlib.pyplot as plt\n",
    "import scipy\n",
    "from PIL import Image\n",
    "from scipy import ndimage\n",
    "import tensorflow as tf\n",
    "from tensorflow.python.framework import ops\n",
    "from cnn_utils import *\n",
    "\n",
    "%matplotlib inline\n",
    "np.random.seed(1)"
   ]
  },
  {
   "cell_type": "markdown",
   "metadata": {},
   "source": [
    "Run the next cell to load the \"SIGNS\" dataset you are going to use."
   ]
  },
  {
   "cell_type": "code",
   "execution_count": 6,
   "metadata": {
    "collapsed": true,
    "jupyter": {
     "outputs_hidden": true
    }
   },
   "outputs": [],
   "source": [
    "# Loading the data (signs)\n",
    "X_train_orig, Y_train_orig, X_test_orig, Y_test_orig, classes = load_dataset()"
   ]
  },
  {
   "cell_type": "markdown",
   "metadata": {},
   "source": [
    "As a reminder, the SIGNS dataset is a collection of 6 signs representing numbers from 0 to 5.\n",
    "\n",
    "<img src=\"images/SIGNS.png\" style=\"width:800px;height:300px;\">\n",
    "\n",
    "The next cell will show you an example of a labelled image in the dataset. Feel free to change the value of `index` below and re-run to see different examples. "
   ]
  },
  {
   "cell_type": "code",
   "execution_count": 7,
   "metadata": {
    "collapsed": true,
    "jupyter": {
     "outputs_hidden": true
    }
   },
   "outputs": [
    {
     "output_type": "stream",
     "name": "stdout",
     "text": [
      "y = 2\n"
     ]
    },
    {
     "output_type": "display_data",
     "data": {
      "image/png": "[encoded data removed]",
      "text/plain": "<matplotlib.figure.Figure at 0x16485b24dd8>",
      "image/svg+xml": "<?xml version=\"1.0\" encoding=\"utf-8\" standalone=\"no\"?>\r\n<!DOCTYPE svg PUBLIC \"-//W3C//DTD SVG 1.1//EN\"\r\n  \"http://www.w3.org/Graphics/SVG/1.1/DTD/svg11.dtd\">\r\n<!-- Created with matplotlib (http://matplotlib.org/) -->\r\n<svg height=\"252pt\" version=\"1.1\" viewBox=\"0 0 255 252\" width=\"255pt\" xmlns=\"http://www.w3.org/2000/svg\" xmlns:xlink=\"http://www.w3.org/1999/xlink\">\r\n <defs>\r\n  <style type=\"text/css\">\r\n*{stroke-linecap:butt;stroke-linejoin:round;}\r\n  </style>\r\n </defs>\r\n <g id=\"figure_1\">\r\n  <g id=\"patch_1\">\r\n   <path d=\"M 0 252.018125 \r\nL 255.065 252.018125 \r\nL 255.065 0 \r\nL 0 0 \r\nz\r\n\" style=\"fill:none;\"/>\r\n  </g>\r\n  <g id=\"axes_1\">\r\n   <g id=\"patch_2\">\r\n    <path d=\"M 26.925 228.14 \r\nL 244.365 228.14 \r\nL 244.365 10.7 \r\nL 26.925 10.7 \r\nz\r\n\" style=\"fill:#ffffff;\"/>\r\n   </g>\r\n   <g clip-path=\"url(#p05d49c6da4)\">\r\n    <image height=\"218\" id=\"image686bff8501\" transform=\"scale(1 -1)translate(0 -218)\" width=\"218\" x=\"26.925\" xlink:href=\"data:image/png;base64,\r\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\" y=\"-10.14\"/>\r\n   </g>\r\n   <g id=\"matplotlib.axis_1\">\r\n    <g id=\"xtick_1\">\r\n     <g id=\"line2d_1\">\r\n      <defs>\r\n       <path d=\"M 0 0 \r\nL 0 3.5 \r\n\" id=\"mccb881a068\" style=\"stroke:#000000;stroke-width:0.8;\"/>\r\n      </defs>\r\n      <g>\r\n       <use style=\"stroke:#000000;stroke-width:0.8;\" x=\"28.62375\" xlink:href=\"#mccb881a068\" y=\"228.14\"/>\r\n      </g>\r\n     </g>\r\n     <g id=\"text_1\">\r\n      <!-- 0 -->\r\n      <defs>\r\n       <path d=\"M 31.78125 66.40625 \r\nQ 24.171875 66.40625 20.328125 58.90625 \r\nQ 16.5 51.421875 16.5 36.375 \r\nQ 16.5 21.390625 20.328125 13.890625 \r\nQ 24.171875 6.390625 31.78125 6.390625 \r\nQ 39.453125 6.390625 43.28125 13.890625 \r\nQ 47.125 21.390625 47.125 36.375 \r\nQ 47.125 51.421875 43.28125 58.90625 \r\nQ 39.453125 66.40625 31.78125 66.40625 \r\nz\r\nM 31.78125 74.21875 \r\nQ 44.046875 74.21875 50.515625 64.515625 \r\nQ 56.984375 54.828125 56.984375 36.375 \r\nQ 56.984375 17.96875 50.515625 8.265625 \r\nQ 44.046875 -1.421875 31.78125 -1.421875 \r\nQ 19.53125 -1.421875 13.0625 8.265625 \r\nQ 6.59375 17.96875 6.59375 36.375 \r\nQ 6.59375 54.828125 13.0625 64.515625 \r\nQ 19.53125 74.21875 31.78125 74.21875 \r\nz\r\n\" id=\"DejaVuSans-30\"/>\r\n      </defs>\r\n      <g transform=\"translate(25.4425 242.738437)scale(0.1 -0.1)\">\r\n       <use xlink:href=\"#DejaVuSans-30\"/>\r\n      </g>\r\n     </g>\r\n    </g>\r\n    <g id=\"xtick_2\">\r\n     <g id=\"line2d_2\">\r\n      <g>\r\n       <use style=\"stroke:#000000;stroke-width:0.8;\" x=\"62.59875\" xlink:href=\"#mccb881a068\" y=\"228.14\"/>\r\n      </g>\r\n     </g>\r\n     <g id=\"text_2\">\r\n      <!-- 10 -->\r\n      <defs>\r\n       <path d=\"M 12.40625 8.296875 \r\nL 28.515625 8.296875 \r\nL 28.515625 63.921875 \r\nL 10.984375 60.40625 \r\nL 10.984375 69.390625 \r\nL 28.421875 72.90625 \r\nL 38.28125 72.90625 \r\nL 38.28125 8.296875 \r\nL 54.390625 8.296875 \r\nL 54.390625 0 \r\nL 12.40625 0 \r\nz\r\n\" id=\"DejaVuSans-31\"/>\r\n      </defs>\r\n      <g transform=\"translate(56.23625 242.738437)scale(0.1 -0.1)\">\r\n       <use xlink:href=\"#DejaVuSans-31\"/>\r\n       <use x=\"63.623047\" xlink:href=\"#DejaVuSans-30\"/>\r\n      </g>\r\n     </g>\r\n    </g>\r\n    <g id=\"xtick_3\">\r\n     <g id=\"line2d_3\">\r\n      <g>\r\n       <use style=\"stroke:#000000;stroke-width:0.8;\" x=\"96.57375\" xlink:href=\"#mccb881a068\" y=\"228.14\"/>\r\n      </g>\r\n     </g>\r\n     <g id=\"text_3\">\r\n      <!-- 20 -->\r\n      <defs>\r\n       <path d=\"M 19.1875 8.296875 \r\nL 53.609375 8.296875 \r\nL 53.609375 0 \r\nL 7.328125 0 \r\nL 7.328125 8.296875 \r\nQ 12.9375 14.109375 22.625 23.890625 \r\nQ 32.328125 33.6875 34.8125 36.53125 \r\nQ 39.546875 41.84375 41.421875 45.53125 \r\nQ 43.3125 49.21875 43.3125 52.78125 \r\nQ 43.3125 58.59375 39.234375 62.25 \r\nQ 35.15625 65.921875 28.609375 65.921875 \r\nQ 23.96875 65.921875 18.8125 64.3125 \r\nQ 13.671875 62.703125 7.8125 59.421875 \r\nL 7.8125 69.390625 \r\nQ 13.765625 71.78125 18.9375 73 \r\nQ 24.125 74.21875 28.421875 74.21875 \r\nQ 39.75 74.21875 46.484375 68.546875 \r\nQ 53.21875 62.890625 53.21875 53.421875 \r\nQ 53.21875 48.921875 51.53125 44.890625 \r\nQ 49.859375 40.875 45.40625 35.40625 \r\nQ 44.1875 33.984375 37.640625 27.21875 \r\nQ 31.109375 20.453125 19.1875 8.296875 \r\nz\r\n\" id=\"DejaVuSans-32\"/>\r\n      </defs>\r\n      <g transform=\"translate(90.21125 242.738437)scale(0.1 -0.1)\">\r\n       <use xlink:href=\"#DejaVuSans-32\"/>\r\n       <use x=\"63.623047\" xlink:href=\"#DejaVuSans-30\"/>\r\n      </g>\r\n     </g>\r\n    </g>\r\n    <g id=\"xtick_4\">\r\n     <g id=\"line2d_4\">\r\n      <g>\r\n       <use style=\"stroke:#000000;stroke-width:0.8;\" x=\"130.54875\" xlink:href=\"#mccb881a068\" y=\"228.14\"/>\r\n      </g>\r\n     </g>\r\n     <g id=\"text_4\">\r\n      <!-- 30 -->\r\n      <defs>\r\n       <path d=\"M 40.578125 39.3125 \r\nQ 47.65625 37.796875 51.625 33 \r\nQ 55.609375 28.21875 55.609375 21.1875 \r\nQ 55.609375 10.40625 48.1875 4.484375 \r\nQ 40.765625 -1.421875 27.09375 -1.421875 \r\nQ 22.515625 -1.421875 17.65625 -0.515625 \r\nQ 12.796875 0.390625 7.625 2.203125 \r\nL 7.625 11.71875 \r\nQ 11.71875 9.328125 16.59375 8.109375 \r\nQ 21.484375 6.890625 26.8125 6.890625 \r\nQ 36.078125 6.890625 40.9375 10.546875 \r\nQ 45.796875 14.203125 45.796875 21.1875 \r\nQ 45.796875 27.640625 41.28125 31.265625 \r\nQ 36.765625 34.90625 28.71875 34.90625 \r\nL 20.21875 34.90625 \r\nL 20.21875 43.015625 \r\nL 29.109375 43.015625 \r\nQ 36.375 43.015625 40.234375 45.921875 \r\nQ 44.09375 48.828125 44.09375 54.296875 \r\nQ 44.09375 59.90625 40.109375 62.90625 \r\nQ 36.140625 65.921875 28.71875 65.921875 \r\nQ 24.65625 65.921875 20.015625 65.03125 \r\nQ 15.375 64.15625 9.8125 62.3125 \r\nL 9.8125 71.09375 \r\nQ 15.4375 72.65625 20.34375 73.4375 \r\nQ 25.25 74.21875 29.59375 74.21875 \r\nQ 40.828125 74.21875 47.359375 69.109375 \r\nQ 53.90625 64.015625 53.90625 55.328125 \r\nQ 53.90625 49.265625 50.4375 45.09375 \r\nQ 46.96875 40.921875 40.578125 39.3125 \r\nz\r\n\" id=\"DejaVuSans-33\"/>\r\n      </defs>\r\n      <g transform=\"translate(124.18625 242.738437)scale(0.1 -0.1)\">\r\n       <use xlink:href=\"#DejaVuSans-33\"/>\r\n       <use x=\"63.623047\" xlink:href=\"#DejaVuSans-30\"/>\r\n      </g>\r\n     </g>\r\n    </g>\r\n    <g id=\"xtick_5\">\r\n     <g id=\"line2d_5\">\r\n      <g>\r\n       <use style=\"stroke:#000000;stroke-width:0.8;\" x=\"164.52375\" xlink:href=\"#mccb881a068\" y=\"228.14\"/>\r\n      </g>\r\n     </g>\r\n     <g id=\"text_5\">\r\n      <!-- 40 -->\r\n      <defs>\r\n       <path d=\"M 37.796875 64.3125 \r\nL 12.890625 25.390625 \r\nL 37.796875 25.390625 \r\nz\r\nM 35.203125 72.90625 \r\nL 47.609375 72.90625 \r\nL 47.609375 25.390625 \r\nL 58.015625 25.390625 \r\nL 58.015625 17.1875 \r\nL 47.609375 17.1875 \r\nL 47.609375 0 \r\nL 37.796875 0 \r\nL 37.796875 17.1875 \r\nL 4.890625 17.1875 \r\nL 4.890625 26.703125 \r\nz\r\n\" id=\"DejaVuSans-34\"/>\r\n      </defs>\r\n      <g transform=\"translate(158.16125 242.738437)scale(0.1 -0.1)\">\r\n       <use xlink:href=\"#DejaVuSans-34\"/>\r\n       <use x=\"63.623047\" xlink:href=\"#DejaVuSans-30\"/>\r\n      </g>\r\n     </g>\r\n    </g>\r\n    <g id=\"xtick_6\">\r\n     <g id=\"line2d_6\">\r\n      <g>\r\n       <use style=\"stroke:#000000;stroke-width:0.8;\" x=\"198.49875\" xlink:href=\"#mccb881a068\" y=\"228.14\"/>\r\n      </g>\r\n     </g>\r\n     <g id=\"text_6\">\r\n      <!-- 50 -->\r\n      <defs>\r\n       <path d=\"M 10.796875 72.90625 \r\nL 49.515625 72.90625 \r\nL 49.515625 64.59375 \r\nL 19.828125 64.59375 \r\nL 19.828125 46.734375 \r\nQ 21.96875 47.46875 24.109375 47.828125 \r\nQ 26.265625 48.1875 28.421875 48.1875 \r\nQ 40.625 48.1875 47.75 41.5 \r\nQ 54.890625 34.8125 54.890625 23.390625 \r\nQ 54.890625 11.625 47.5625 5.09375 \r\nQ 40.234375 -1.421875 26.90625 -1.421875 \r\nQ 22.3125 -1.421875 17.546875 -0.640625 \r\nQ 12.796875 0.140625 7.71875 1.703125 \r\nL 7.71875 11.625 \r\nQ 12.109375 9.234375 16.796875 8.0625 \r\nQ 21.484375 6.890625 26.703125 6.890625 \r\nQ 35.15625 6.890625 40.078125 11.328125 \r\nQ 45.015625 15.765625 45.015625 23.390625 \r\nQ 45.015625 31 40.078125 35.4375 \r\nQ 35.15625 39.890625 26.703125 39.890625 \r\nQ 22.75 39.890625 18.8125 39.015625 \r\nQ 14.890625 38.140625 10.796875 36.28125 \r\nz\r\n\" id=\"DejaVuSans-35\"/>\r\n      </defs>\r\n      <g transform=\"translate(192.13625 242.738437)scale(0.1 -0.1)\">\r\n       <use xlink:href=\"#DejaVuSans-35\"/>\r\n       <use x=\"63.623047\" xlink:href=\"#DejaVuSans-30\"/>\r\n      </g>\r\n     </g>\r\n    </g>\r\n    <g id=\"xtick_7\">\r\n     <g id=\"line2d_7\">\r\n      <g>\r\n       <use style=\"stroke:#000000;stroke-width:0.8;\" x=\"232.47375\" xlink:href=\"#mccb881a068\" y=\"228.14\"/>\r\n      </g>\r\n     </g>\r\n     <g id=\"text_7\">\r\n      <!-- 60 -->\r\n      <defs>\r\n       <path d=\"M 33.015625 40.375 \r\nQ 26.375 40.375 22.484375 35.828125 \r\nQ 18.609375 31.296875 18.609375 23.390625 \r\nQ 18.609375 15.53125 22.484375 10.953125 \r\nQ 26.375 6.390625 33.015625 6.390625 \r\nQ 39.65625 6.390625 43.53125 10.953125 \r\nQ 47.40625 15.53125 47.40625 23.390625 \r\nQ 47.40625 31.296875 43.53125 35.828125 \r\nQ 39.65625 40.375 33.015625 40.375 \r\nz\r\nM 52.59375 71.296875 \r\nL 52.59375 62.3125 \r\nQ 48.875 64.0625 45.09375 64.984375 \r\nQ 41.3125 65.921875 37.59375 65.921875 \r\nQ 27.828125 65.921875 22.671875 59.328125 \r\nQ 17.53125 52.734375 16.796875 39.40625 \r\nQ 19.671875 43.65625 24.015625 45.921875 \r\nQ 28.375 48.1875 33.59375 48.1875 \r\nQ 44.578125 48.1875 50.953125 41.515625 \r\nQ 57.328125 34.859375 57.328125 23.390625 \r\nQ 57.328125 12.15625 50.6875 5.359375 \r\nQ 44.046875 -1.421875 33.015625 -1.421875 \r\nQ 20.359375 -1.421875 13.671875 8.265625 \r\nQ 6.984375 17.96875 6.984375 36.375 \r\nQ 6.984375 53.65625 15.1875 63.9375 \r\nQ 23.390625 74.21875 37.203125 74.21875 \r\nQ 40.921875 74.21875 44.703125 73.484375 \r\nQ 48.484375 72.75 52.59375 71.296875 \r\nz\r\n\" id=\"DejaVuSans-36\"/>\r\n      </defs>\r\n      <g transform=\"translate(226.11125 242.738437)scale(0.1 -0.1)\">\r\n       <use xlink:href=\"#DejaVuSans-36\"/>\r\n       <use x=\"63.623047\" xlink:href=\"#DejaVuSans-30\"/>\r\n      </g>\r\n     </g>\r\n    </g>\r\n   </g>\r\n   <g id=\"matplotlib.axis_2\">\r\n    <g id=\"ytick_1\">\r\n     <g id=\"line2d_8\">\r\n      <defs>\r\n       <path d=\"M 0 0 \r\nL -3.5 0 \r\n\" id=\"m3226b8e4ee\" style=\"stroke:#000000;stroke-width:0.8;\"/>\r\n      </defs>\r\n      <g>\r\n       <use style=\"stroke:#000000;stroke-width:0.8;\" x=\"26.925\" xlink:href=\"#m3226b8e4ee\" y=\"12.39875\"/>\r\n      </g>\r\n     </g>\r\n     <g id=\"text_8\">\r\n      <!-- 0 -->\r\n      <g transform=\"translate(13.5625 16.197969)scale(0.1 -0.1)\">\r\n       <use xlink:href=\"#DejaVuSans-30\"/>\r\n      </g>\r\n     </g>\r\n    </g>\r\n    <g id=\"ytick_2\">\r\n     <g id=\"line2d_9\">\r\n      <g>\r\n       <use style=\"stroke:#000000;stroke-width:0.8;\" x=\"26.925\" xlink:href=\"#m3226b8e4ee\" y=\"46.37375\"/>\r\n      </g>\r\n     </g>\r\n     <g id=\"text_9\">\r\n      <!-- 10 -->\r\n      <g transform=\"translate(7.2 50.172969)scale(0.1 -0.1)\">\r\n       <use xlink:href=\"#DejaVuSans-31\"/>\r\n       <use x=\"63.623047\" xlink:href=\"#DejaVuSans-30\"/>\r\n      </g>\r\n     </g>\r\n    </g>\r\n    <g id=\"ytick_3\">\r\n     <g id=\"line2d_10\">\r\n      <g>\r\n       <use style=\"stroke:#000000;stroke-width:0.8;\" x=\"26.925\" xlink:href=\"#m3226b8e4ee\" y=\"80.34875\"/>\r\n      </g>\r\n     </g>\r\n     <g id=\"text_10\">\r\n      <!-- 20 -->\r\n      <g transform=\"translate(7.2 84.147969)scale(0.1 -0.1)\">\r\n       <use xlink:href=\"#DejaVuSans-32\"/>\r\n       <use x=\"63.623047\" xlink:href=\"#DejaVuSans-30\"/>\r\n      </g>\r\n     </g>\r\n    </g>\r\n    <g id=\"ytick_4\">\r\n     <g id=\"line2d_11\">\r\n      <g>\r\n       <use style=\"stroke:#000000;stroke-width:0.8;\" x=\"26.925\" xlink:href=\"#m3226b8e4ee\" y=\"114.32375\"/>\r\n      </g>\r\n     </g>\r\n     <g id=\"text_11\">\r\n      <!-- 30 -->\r\n      <g transform=\"translate(7.2 118.122969)scale(0.1 -0.1)\">\r\n       <use xlink:href=\"#DejaVuSans-33\"/>\r\n       <use x=\"63.623047\" xlink:href=\"#DejaVuSans-30\"/>\r\n      </g>\r\n     </g>\r\n    </g>\r\n    <g id=\"ytick_5\">\r\n     <g id=\"line2d_12\">\r\n      <g>\r\n       <use style=\"stroke:#000000;stroke-width:0.8;\" x=\"26.925\" xlink:href=\"#m3226b8e4ee\" y=\"148.29875\"/>\r\n      </g>\r\n     </g>\r\n     <g id=\"text_12\">\r\n      <!-- 40 -->\r\n      <g transform=\"translate(7.2 152.097969)scale(0.1 -0.1)\">\r\n       <use xlink:href=\"#DejaVuSans-34\"/>\r\n       <use x=\"63.623047\" xlink:href=\"#DejaVuSans-30\"/>\r\n      </g>\r\n     </g>\r\n    </g>\r\n    <g id=\"ytick_6\">\r\n     <g id=\"line2d_13\">\r\n      <g>\r\n       <use style=\"stroke:#000000;stroke-width:0.8;\" x=\"26.925\" xlink:href=\"#m3226b8e4ee\" y=\"182.27375\"/>\r\n      </g>\r\n     </g>\r\n     <g id=\"text_13\">\r\n      <!-- 50 -->\r\n      <g transform=\"translate(7.2 186.072969)scale(0.1 -0.1)\">\r\n       <use xlink:href=\"#DejaVuSans-35\"/>\r\n       <use x=\"63.623047\" xlink:href=\"#DejaVuSans-30\"/>\r\n      </g>\r\n     </g>\r\n    </g>\r\n    <g id=\"ytick_7\">\r\n     <g id=\"line2d_14\">\r\n      <g>\r\n       <use style=\"stroke:#000000;stroke-width:0.8;\" x=\"26.925\" xlink:href=\"#m3226b8e4ee\" y=\"216.24875\"/>\r\n      </g>\r\n     </g>\r\n     <g id=\"text_14\">\r\n      <!-- 60 -->\r\n      <g transform=\"translate(7.2 220.047969)scale(0.1 -0.1)\">\r\n       <use xlink:href=\"#DejaVuSans-36\"/>\r\n       <use x=\"63.623047\" xlink:href=\"#DejaVuSans-30\"/>\r\n      </g>\r\n     </g>\r\n    </g>\r\n   </g>\r\n   <g id=\"patch_3\">\r\n    <path d=\"M 26.925 228.14 \r\nL 26.925 10.7 \r\n\" style=\"fill:none;stroke:#000000;stroke-linecap:square;stroke-linejoin:miter;stroke-width:0.8;\"/>\r\n   </g>\r\n   <g id=\"patch_4\">\r\n    <path d=\"M 244.365 228.14 \r\nL 244.365 10.7 \r\n\" style=\"fill:none;stroke:#000000;stroke-linecap:square;stroke-linejoin:miter;stroke-width:0.8;\"/>\r\n   </g>\r\n   <g id=\"patch_5\">\r\n    <path d=\"M 26.925 228.14 \r\nL 244.365 228.14 \r\n\" style=\"fill:none;stroke:#000000;stroke-linecap:square;stroke-linejoin:miter;stroke-width:0.8;\"/>\r\n   </g>\r\n   <g id=\"patch_6\">\r\n    <path d=\"M 26.925 10.7 \r\nL 244.365 10.7 \r\n\" style=\"fill:none;stroke:#000000;stroke-linecap:square;stroke-linejoin:miter;stroke-width:0.8;\"/>\r\n   </g>\r\n  </g>\r\n </g>\r\n <defs>\r\n  <clipPath id=\"p05d49c6da4\">\r\n   <rect height=\"217.44\" width=\"217.44\" x=\"26.925\" y=\"10.7\"/>\r\n  </clipPath>\r\n </defs>\r\n</svg>\r\n"
     },
     "metadata": {}
    }
   ],
   "source": [
    "# Example of a picture\n",
    "index = 6\n",
    "plt.imshow(X_train_orig[index])\n",
    "print (\"y = \" + str(np.squeeze(Y_train_orig[:, index])))"
   ]
  },
  {
   "cell_type": "markdown",
   "metadata": {},
   "source": [
    "In Course 2, you had built a fully-connected network for this dataset. But since this is an image dataset, it is more natural to apply a ConvNet to it.\n",
    "\n",
    "To get started, let's examine the shapes of your data. "
   ]
  },
  {
   "cell_type": "code",
   "execution_count": 8,
   "metadata": {
    "collapsed": true,
    "jupyter": {
     "outputs_hidden": true
    }
   },
   "outputs": [
    {
     "output_type": "stream",
     "name": "stdout",
     "text": [
      "number of training examples = 1080\nnumber of test examples = 120\nX_train shape: (1080, 64, 64, 3)\nY_train shape: (1080, 6)\nX_test shape: (120, 64, 64, 3)\nY_test shape: (120, 6)\n"
     ]
    }
   ],
   "source": [
    "X_train = X_train_orig/255.\n",
    "X_test = X_test_orig/255.\n",
    "Y_train = convert_to_one_hot(Y_train_orig, 6).T\n",
    "Y_test = convert_to_one_hot(Y_test_orig, 6).T\n",
    "print (\"number of training examples = \" + str(X_train.shape[0]))\n",
    "print (\"number of test examples = \" + str(X_test.shape[0]))\n",
    "print (\"X_train shape: \" + str(X_train.shape))\n",
    "print (\"Y_train shape: \" + str(Y_train.shape))\n",
    "print (\"X_test shape: \" + str(X_test.shape))\n",
    "print (\"Y_test shape: \" + str(Y_test.shape))\n",
    "conv_layers = {}"
   ]
  },
  {
   "cell_type": "markdown",
   "metadata": {},
   "source": [
    "### 1.1 - Create placeholders\n",
    "\n",
    "TensorFlow requires that you create placeholders for the input data that will be fed into the model when running the session.\n",
    "\n",
    "**Exercise**: Implement the function below to create placeholders for the input image X and the output Y. You should not define the number of training examples for the moment. To do so, you could use \"None\" as the batch size, it will give you the flexibility to choose it later. Hence X should be of dimension **[None, n_H0, n_W0, n_C0]** and Y should be of dimension **[None, n_y]**.  [Hint](https://www.tensorflow.org/api_docs/python/tf/placeholder)."
   ]
  },
  {
   "cell_type": "code",
   "execution_count": 9,
   "metadata": {
    "collapsed": true,
    "jupyter": {
     "outputs_hidden": true
    }
   },
   "outputs": [],
   "source": [
    "# GRADED FUNCTION: create_placeholders\n",
    "\n",
    "def create_placeholders(n_H0, n_W0, n_C0, n_y):\n",
    "    \"\"\"\n",
    "    Creates the placeholders for the tensorflow session.\n",
    "    \n",
    "    Arguments:\n",
    "    n_H0 -- scalar, height of an input image\n",
    "    n_W0 -- scalar, width of an input image\n",
    "    n_C0 -- scalar, number of channels of the input\n",
    "    n_y -- scalar, number of classes\n",
    "        \n",
    "    Returns:\n",
    "    X -- placeholder for the data input, of shape [None, n_H0, n_W0, n_C0] and dtype \"float\"\n",
    "    Y -- placeholder for the input labels, of shape [None, n_y] and dtype \"float\"\n",
    "    \"\"\"\n",
    "\n",
    "    ### START CODE HERE ### (≈2 lines)\n",
    "    X = tf.placeholder(tf.float32,shape=[None,n_H0,n_W0,n_C0],name=\"X\")\n",
    "    Y = tf.placeholder(tf.float32,shape=[None,n_y],name=\"Y\")\n",
    "\n",
    "    ### END CODE HERE ###\n",
    "    \n",
    "    return X, Y"
   ]
  },
  {
   "cell_type": "code",
   "execution_count": 10,
   "metadata": {
    "collapsed": true,
    "jupyter": {
     "outputs_hidden": true
    }
   },
   "outputs": [
    {
     "output_type": "stream",
     "name": "stdout",
     "text": [
      "X = Tensor(\"X:0\", shape=(?, 64, 64, 3), dtype=float32)\nY = Tensor(\"Y:0\", shape=(?, 6), dtype=float32)\n"
     ]
    }
   ],
   "source": [
    "X, Y = create_placeholders(64, 64, 3, 6)\n",
    "print (\"X = \" + str(X))\n",
    "print (\"Y = \" + str(Y))"
   ]
  },
  {
   "cell_type": "markdown",
   "metadata": {},
   "source": [
    "**Expected Output**\n",
    "\n",
    "<table> \n",
    "<tr>\n",
    "<td>\n",
    "    X = Tensor(\"Placeholder:0\", shape=(?, 64, 64, 3), dtype=float32)\n",
    "\n",
    "</td>\n",
    "</tr>\n",
    "<tr>\n",
    "<td>\n",
    "    Y = Tensor(\"Placeholder_1:0\", shape=(?, 6), dtype=float32)\n",
    "\n",
    "</td>\n",
    "</tr>\n",
    "</table>"
   ]
  },
  {
   "cell_type": "markdown",
   "metadata": {},
   "source": [
    "### 1.2 - Initialize parameters\n",
    "\n",
    "You will initialize weights/filters $W1$ and $W2$ using `tf.contrib.layers.xavier_initializer(seed = 0)`. You don't need to worry about bias variables as you will soon see that TensorFlow functions take care of the bias. Note also that you will only initialize the weights/filters for the conv2d functions. TensorFlow initializes the layers for the fully connected part automatically. We will talk more about that later in this assignment.\n",
    "\n",
    "**Exercise:** Implement initialize_parameters(). The dimensions for each group of filters are provided below. Reminder - to initialize a parameter $W$ of shape [1,2,3,4] in Tensorflow, use:\n",
    "```python\n",
    "W = tf.get_variable(\"W\", [1,2,3,4], initializer = ...)\n",
    "```\n",
    "[More Info](https://www.tensorflow.org/api_docs/python/tf/get_variable)."
   ]
  },
  {
   "cell_type": "code",
   "execution_count": 11,
   "metadata": {
    "collapsed": true,
    "jupyter": {
     "outputs_hidden": true
    }
   },
   "outputs": [],
   "source": [
    "# GRADED FUNCTION: initialize_parameters\n",
    "\n",
    "def initialize_parameters():\n",
    "    \"\"\"\n",
    "    Initializes weight parameters to build a neural network with tensorflow. The shapes are:\n",
    "                        W1 : [4, 4, 3, 8]\n",
    "                        W2 : [2, 2, 8, 16]\n",
    "    Returns:\n",
    "    parameters -- a dictionary of tensors containing W1, W2\n",
    "    \"\"\"\n",
    "    \n",
    "    tf.set_random_seed(1)                              # so that your \"random\" numbers match ours\n",
    "        \n",
    "    ### START CODE HERE ### (approx. 2 lines of code)\n",
    "    W1 = tf.get_variable(\"W1\", [4, 4, 3, 8], initializer=tf.contrib.layers.xavier_initializer(seed=0))\n",
    "    W2 = tf.get_variable(\"W2\", [2, 2, 8, 16], initializer=tf.contrib.layers.xavier_initializer(seed=0))\n",
    "\n",
    "    ### END CODE HERE ###\n",
    "\n",
    "    parameters = {\"W1\": W1,\n",
    "                  \"W2\": W2}\n",
    "    \n",
    "    return parameters"
   ]
  },
  {
   "cell_type": "code",
   "execution_count": 12,
   "metadata": {
    "collapsed": true,
    "jupyter": {
     "outputs_hidden": true
    }
   },
   "outputs": [
    {
     "output_type": "stream",
     "name": "stdout",
     "text": [
      "W1 = [ 0.00131723  0.14176141 -0.04434952  0.09197326  0.14984085 -0.03514394\n -0.06847463  0.05245192]\nW2 = [-0.08566415  0.17750949  0.11974221  0.16773748 -0.0830943  -0.08058\n -0.00577033 -0.14643836  0.24162132 -0.05857408 -0.19055021  0.1345228\n -0.22779644 -0.1601823  -0.16117483 -0.10286498]\n"
     ]
    }
   ],
   "source": [
    "tf.reset_default_graph()\n",
    "with tf.Session() as sess_test:\n",
    "    parameters = initialize_parameters()\n",
    "    init = tf.global_variables_initializer()\n",
    "    sess_test.run(init)\n",
    "    print(\"W1 = \" + str(parameters[\"W1\"].eval()[1,1,1]))\n",
    "    print(\"W2 = \" + str(parameters[\"W2\"].eval()[1,1,1]))"
   ]
  },
  {
   "cell_type": "markdown",
   "metadata": {},
   "source": [
    "** Expected Output:**\n",
    "\n",
    "<table> \n",
    "\n",
    "    <tr>\n",
    "        <td>\n",
    "        W1 = \n",
    "        </td>\n",
    "        <td>\n",
    "[ 0.00131723  0.14176141 -0.04434952  0.09197326  0.14984085 -0.03514394 <br>\n",
    " -0.06847463  0.05245192]\n",
    "        </td>\n",
    "    </tr>\n",
    "\n",
    "    <tr>\n",
    "        <td>\n",
    "        W2 = \n",
    "        </td>\n",
    "        <td>\n",
    "[-0.08566415  0.17750949  0.11974221  0.16773748 -0.0830943  -0.08058 <br>\n",
    " -0.00577033 -0.14643836  0.24162132 -0.05857408 -0.19055021  0.1345228 <br>\n",
    " -0.22779644 -0.1601823  -0.16117483 -0.10286498]\n",
    "        </td>\n",
    "    </tr>\n",
    "\n",
    "</table>"
   ]
  },
  {
   "cell_type": "markdown",
   "metadata": {},
   "source": [
    "### 1.2 - Forward propagation\n",
    "\n",
    "In TensorFlow, there are built-in functions that carry out the convolution steps for you.\n",
    "\n",
    "- **tf.nn.conv2d(X,W1, strides = [1,s,s,1], padding = 'SAME'):** given an input $X$ and a group of filters $W1$, this function convolves $W1$'s filters on X. The third input ([1,f,f,1]) represents the strides for each dimension of the input (m, n_H_prev, n_W_prev, n_C_prev). You can read the full documentation [here](https://www.tensorflow.org/api_docs/python/tf/nn/conv2d)\n",
    "\n",
    "- **tf.nn.max_pool(A, ksize = [1,f,f,1], strides = [1,s,s,1], padding = 'SAME'):** given an input A, this function uses a window of size (f, f) and strides of size (s, s) to carry out max pooling over each window. You can read the full documentation [here](https://www.tensorflow.org/api_docs/python/tf/nn/max_pool)\n",
    "\n",
    "- **tf.nn.relu(Z1):** computes the elementwise ReLU of Z1 (which can be any shape). You can read the full documentation [here.](https://www.tensorflow.org/api_docs/python/tf/nn/relu)\n",
    "\n",
    "- **tf.contrib.layers.flatten(P)**: given an input P, this function flattens each example into a 1D vector it while maintaining the batch-size. It returns a flattened tensor with shape [batch_size, k]. You can read the full documentation [here.](https://www.tensorflow.org/api_docs/python/tf/contrib/layers/flatten)\n",
    "\n",
    "- **tf.contrib.layers.fully_connected(F, num_outputs):** given a the flattened input F, it returns the output computed using a fully connected layer. You can read the full documentation [here.](https://www.tensorflow.org/api_docs/python/tf/contrib/layers/fully_connected)\n",
    "\n",
    "In the last function above (`tf.contrib.layers.fully_connected`), the fully connected layer automatically initializes weights in the graph and keeps on training them as you train the model. Hence, you did not need to initialize those weights when initializing the parameters. \n",
    "\n",
    "\n",
    "**Exercise**: \n",
    "\n",
    "Implement the `forward_propagation` function below to build the following model: `CONV2D -> RELU -> MAXPOOL -> CONV2D -> RELU -> MAXPOOL -> FLATTEN -> FULLYCONNECTED`. You should use the functions above. \n",
    "\n",
    "In detail, we will use the following parameters for all the steps:\n",
    "     - Conv2D: stride 1, padding is \"SAME\"\n",
    "     - ReLU\n",
    "     - Max pool: Use an 8 by 8 filter size and an 8 by 8 stride, padding is \"SAME\"\n",
    "     - Conv2D: stride 1, padding is \"SAME\"\n",
    "     - ReLU\n",
    "     - Max pool: Use a 4 by 4 filter size and a 4 by 4 stride, padding is \"SAME\"\n",
    "     - Flatten the previous output.\n",
    "     - FULLYCONNECTED (FC) layer: Apply a fully connected layer without an non-linear activation function. Do not call the softmax here. This will result in 6 neurons in the output layer, which then get passed later to a softmax. In TensorFlow, the softmax and cost function are lumped together into a single function, which you'll call in a different function when computing the cost. "
   ]
  },
  {
   "cell_type": "code",
   "execution_count": 15,
   "metadata": {
    "collapsed": true,
    "jupyter": {
     "outputs_hidden": true
    }
   },
   "outputs": [],
   "source": [
    "# GRADED FUNCTION: forward_propagation\n",
    "\n",
    "def forward_propagation(X, parameters):\n",
    "    \"\"\"\n",
    "    Implements the forward propagation for the model:\n",
    "    CONV2D -> RELU -> MAXPOOL -> CONV2D -> RELU -> MAXPOOL -> FLATTEN -> FULLYCONNECTED\n",
    "    \n",
    "    Arguments:\n",
    "    X -- input dataset placeholder, of shape (input size, number of examples)\n",
    "    parameters -- python dictionary containing your parameters \"W1\", \"W2\"\n",
    "                  the shapes are given in initialize_parameters\n",
    "\n",
    "    Returns:\n",
    "    Z3 -- the output of the last LINEAR unit\n",
    "    \"\"\"\n",
    "    \n",
    "    # Retrieve the parameters from the dictionary \"parameters\" \n",
    "    W1 = parameters['W1']\n",
    "    W2 = parameters['W2']\n",
    "    \n",
    "    ### START CODE HERE ###\n",
    "    # CONV2D: stride of 1, padding 'SAME'\n",
    "    Z1 = tf.nn.conv2d(X,W1,strides=[1,1,1,1],padding='SAME')\n",
    "    # RELU\n",
    "    A1 = tf.nn.relu(Z1)\n",
    "    # MAXPOOL: window 8x8, sride 8, padding 'SAME'\n",
    "    P1 = tf.nn.max_pool(A1,[1,8,8,1],[1,8,8,1],padding='SAME')\n",
    "    # CONV2D: filters W2, stride 1, padding 'SAME'\n",
    "    Z2 = tf.nn.conv2d(P1,W2,[1,1,1,1],padding='SAME')\n",
    "    # RELU\n",
    "    A2 = tf.nn.relu(Z2)\n",
    "    # MAXPOOL: window 4x4, stride 4, padding 'SAME'\n",
    "    P2 = tf.nn.max_pool(A2,[1,4,4,1],[1,4,4,1],padding='SAME')\n",
    "    # FLATTEN\n",
    "    P2 = tf.contrib.layers.flatten(P2)\n",
    "    # FULLY-CONNECTED without non-linear activation function (not not call softmax).\n",
    "    # 6 neurons in output layer. Hint: one of the arguments should be \"activation_fn=None\"\n",
    "    Z3 = tf.contrib.layers.fully_connected(P2,num_outputs = 6,activation_fn =None)\n",
    "    ### END CODE HERE ###\n",
    "\n",
    "    return Z3"
   ]
  },
  {
   "cell_type": "code",
   "execution_count": 17,
   "metadata": {
    "collapsed": true,
    "jupyter": {
     "outputs_hidden": true
    }
   },
   "outputs": [
    {
     "output_type": "stream",
     "name": "stdout",
     "text": [
      "Z3 = [[-0.44670227 -1.57208765 -1.53049231 -2.31013036 -1.29104376  0.46852064]\n [-0.17601591 -1.57972014 -1.4737016  -2.61672091 -1.00810647  0.5747785 ]]\n"
     ]
    }
   ],
   "source": [
    "tf.reset_default_graph()\n",
    "\n",
    "with tf.Session() as sess:\n",
    "    np.random.seed(1)\n",
    "    X, Y = create_placeholders(64, 64, 3, 6)\n",
    "    parameters = initialize_parameters()\n",
    "    Z3 = forward_propagation(X, parameters)\n",
    "    init = tf.global_variables_initializer()\n",
    "    sess.run(init)\n",
    "    a = sess.run(Z3, {X: np.random.randn(2,64,64,3), Y: np.random.randn(2,6)})\n",
    "    print(\"Z3 = \" + str(a))"
   ]
  },
  {
   "cell_type": "markdown",
   "metadata": {},
   "source": [
    "**Expected Output**:\n",
    "\n",
    "<table> \n",
    "    <td> \n",
    "    Z3 =\n",
    "    </td>\n",
    "    <td>\n",
    "   [[ 1.4416984  -0.24909666  5.450499   -0.2618962  -0.20669907  1.3654671 ] <br>\n",
    " [ 1.4070846  -0.02573211  5.08928    -0.48669922 -0.40940708  1.2624859 ]]\n",
    "    </td>\n",
    "</table>"
   ]
  },
  {
   "cell_type": "markdown",
   "metadata": {},
   "source": [
    "### 1.3 - Compute cost\n",
    "\n",
    "Implement the compute cost function below. You might find these two functions helpful: \n",
    "\n",
    "- **tf.nn.softmax_cross_entropy_with_logits(logits = Z3, labels = Y):** computes the softmax entropy loss. This function both computes the softmax activation function as well as the resulting loss. You can check the full documentation  [here.](https://www.tensorflow.org/api_docs/python/tf/nn/softmax_cross_entropy_with_logits)\n",
    "- **tf.reduce_mean:** computes the mean of elements across dimensions of a tensor. Use this to sum the losses over all the examples to get the overall cost. You can check the full documentation [here.](https://www.tensorflow.org/api_docs/python/tf/reduce_mean)\n",
    "\n",
    "** Exercise**: Compute the cost below using the function above."
   ]
  },
  {
   "cell_type": "code",
   "execution_count": 18,
   "metadata": {
    "collapsed": true,
    "jupyter": {
     "outputs_hidden": true
    }
   },
   "outputs": [],
   "source": [
    "# GRADED FUNCTION: compute_cost \n",
    "\n",
    "def compute_cost(Z3, Y):\n",
    "    \"\"\"\n",
    "    Computes the cost\n",
    "    \n",
    "    Arguments:\n",
    "    Z3 -- output of forward propagation (output of the last LINEAR unit), of shape (6, number of examples)\n",
    "    Y -- \"true\" labels vector placeholder, same shape as Z3\n",
    "    \n",
    "    Returns:\n",
    "    cost - Tensor of the cost function\n",
    "    \"\"\"\n",
    "    \n",
    "    ### START CODE HERE ### (1 line of code)\n",
    "    cost = tf.reduce_mean(tf.nn.softmax_cross_entropy_with_logits(logits=Z3,labels=Y))\n",
    "    ### END CODE HERE ###\n",
    "    \n",
    "    return cost"
   ]
  },
  {
   "cell_type": "code",
   "execution_count": 19,
   "metadata": {
    "collapsed": true,
    "jupyter": {
     "outputs_hidden": true
    }
   },
   "outputs": [
    {
     "output_type": "stream",
     "name": "stdout",
     "text": [
      "cost = 2.91034\n"
     ]
    }
   ],
   "source": [
    "tf.reset_default_graph()\n",
    "\n",
    "with tf.Session() as sess:\n",
    "    np.random.seed(1)\n",
    "    X, Y = create_placeholders(64, 64, 3, 6)\n",
    "    parameters = initialize_parameters()\n",
    "    Z3 = forward_propagation(X, parameters)\n",
    "    cost = compute_cost(Z3, Y)\n",
    "    init = tf.global_variables_initializer()\n",
    "    sess.run(init)\n",
    "    a = sess.run(cost, {X: np.random.randn(4,64,64,3), Y: np.random.randn(4,6)})\n",
    "    print(\"cost = \" + str(a))"
   ]
  },
  {
   "cell_type": "markdown",
   "metadata": {},
   "source": [
    "**Expected Output**: \n",
    "\n",
    "<table>\n",
    "    <td> \n",
    "    cost =\n",
    "    </td> \n",
    "    \n",
    "    <td> \n",
    "  4.66487\n",
    "    </td> \n",
    "</table>"
   ]
  },
  {
   "cell_type": "markdown",
   "metadata": {},
   "source": [
    "## 1.4 Model \n",
    "\n",
    "Finally you will merge the helper functions you implemented above to build a model. You will train it on the SIGNS dataset. \n",
    "\n",
    "You have implemented `random_mini_batches()` in the Optimization programming assignment of course 2. Remember that this function returns a list of mini-batches. \n",
    "\n",
    "**Exercise**: Complete the function below. \n",
    "\n",
    "The model below should:\n",
    "\n",
    "- create placeholders\n",
    "- initialize parameters\n",
    "- forward propagate\n",
    "- compute the cost\n",
    "- create an optimizer\n",
    "\n",
    "Finally you will create a session and run a for loop  for num_epochs, get the mini-batches, and then for each mini-batch you will optimize the function. [Hint for initializing the variables](https://www.tensorflow.org/api_docs/python/tf/global_variables_initializer)"
   ]
  },
  {
   "cell_type": "code",
   "execution_count": 20,
   "metadata": {
    "collapsed": true,
    "jupyter": {
     "outputs_hidden": true
    }
   },
   "outputs": [],
   "source": [
    "# GRADED FUNCTION: model\n",
    "\n",
    "def model(X_train, Y_train, X_test, Y_test, learning_rate = 0.009,\n",
    "          num_epochs = 100, minibatch_size = 64, print_cost = True):\n",
    "    \"\"\"\n",
    "    Implements a three-layer ConvNet in Tensorflow:\n",
    "    CONV2D -> RELU -> MAXPOOL -> CONV2D -> RELU -> MAXPOOL -> FLATTEN -> FULLYCONNECTED\n",
    "    \n",
    "    Arguments:\n",
    "    X_train -- training set, of shape (None, 64, 64, 3)\n",
    "    Y_train -- test set, of shape (None, n_y = 6)\n",
    "    X_test -- training set, of shape (None, 64, 64, 3)\n",
    "    Y_test -- test set, of shape (None, n_y = 6)\n",
    "    learning_rate -- learning rate of the optimization\n",
    "    num_epochs -- number of epochs of the optimization loop\n",
    "    minibatch_size -- size of a minibatch\n",
    "    print_cost -- True to print the cost every 100 epochs\n",
    "    \n",
    "    Returns:\n",
    "    train_accuracy -- real number, accuracy on the train set (X_train)\n",
    "    test_accuracy -- real number, testing accuracy on the test set (X_test)\n",
    "    parameters -- parameters learnt by the model. They can then be used to predict.\n",
    "    \"\"\"\n",
    "    \n",
    "    ops.reset_default_graph()                         # to be able to rerun the model without overwriting tf variables\n",
    "    tf.set_random_seed(1)                             # to keep results consistent (tensorflow seed)\n",
    "    seed = 3                                          # to keep results consistent (numpy seed)\n",
    "    (m, n_H0, n_W0, n_C0) = X_train.shape             \n",
    "    n_y = Y_train.shape[1]                            \n",
    "    costs = []                                        # To keep track of the cost\n",
    "    \n",
    "    # Create Placeholders of the correct shape\n",
    "    ### START CODE HERE ### (1 line)\n",
    "    X , Y = create_placeholders(n_H0, n_W0, n_C0, n_y)\n",
    "    ### END CODE HERE ###\n",
    "\n",
    "    # Initialize parameters\n",
    "    ### START CODE HERE ### (1 line)\n",
    "    parameters = initialize_parameters()\n",
    "    ### END CODE HERE ###\n",
    "    \n",
    "    # Forward propagation: Build the forward propagation in the tensorflow graph\n",
    "    ### START CODE HERE ### (1 line)\n",
    "    Z3 = forward_propagation(X,parameters)\n",
    "    ### END CODE HERE ###\n",
    "    \n",
    "    # Cost function: Add cost function to tensorflow graph\n",
    "    ### START CODE HERE ### (1 line)\n",
    "    cost = compute_cost(Z3,Y)\n",
    "    ### END CODE HERE ###\n",
    "    \n",
    "    # Backpropagation: Define the tensorflow optimizer. Use an AdamOptimizer that minimizes the cost.\n",
    "    ### START CODE HERE ### (1 line)\n",
    "    optimizer = tf.train.AdamOptimizer(learning_rate=learning_rate).minimize(cost)\n",
    "    ### END CODE HERE ###\n",
    "    \n",
    "    # Initialize all the variables globally\n",
    "    init = tf.global_variables_initializer()\n",
    "     \n",
    "    # Start the session to compute the tensorflow graph\n",
    "    with tf.Session() as sess:\n",
    "        \n",
    "        # Run the initialization\n",
    "        sess.run(init)\n",
    "        \n",
    "        # Do the training loop\n",
    "        for epoch in range(num_epochs):\n",
    "\n",
    "            minibatch_cost = 0.\n",
    "            num_minibatches = int(m / minibatch_size) # number of minibatches of size minibatch_size in the train set\n",
    "            seed = seed + 1\n",
    "            minibatches = random_mini_batches(X_train, Y_train, minibatch_size, seed)\n",
    "\n",
    "            for minibatch in minibatches:\n",
    "\n",
    "                # Select a minibatch\n",
    "                (minibatch_X, minibatch_Y) = minibatch\n",
    "                # IMPORTANT: The line that runs the graph on a minibatch.\n",
    "                # Run the session to execute the optimizer and the cost, the feedict should contain a minibatch for (X,Y).\n",
    "                ### START CODE HERE ### (1 line)\n",
    "                _ , temp_cost = sess.run([optimizer,cost],feed_dict={X:minibatch_X, Y:minibatch_Y})\n",
    "                ### END CODE HERE ###\n",
    "                \n",
    "                minibatch_cost += temp_cost / num_minibatches\n",
    "                \n",
    "\n",
    "            # Print the cost every epoch\n",
    "            if print_cost == True and epoch % 5 == 0:\n",
    "                print (\"Cost after epoch %i: %f\" % (epoch, minibatch_cost))\n",
    "            if print_cost == True and epoch % 1 == 0:\n",
    "                costs.append(minibatch_cost)\n",
    "        \n",
    "        \n",
    "        # plot the cost\n",
    "        plt.plot(np.squeeze(costs))\n",
    "        plt.ylabel('cost')\n",
    "        plt.xlabel('iterations (per tens)')\n",
    "        plt.title(\"Learning rate =\" + str(learning_rate))\n",
    "        plt.show()\n",
    "\n",
    "        # Calculate the correct predictions\n",
    "        predict_op = tf.argmax(Z3, 1)\n",
    "        correct_prediction = tf.equal(predict_op, tf.argmax(Y, 1))\n",
    "        \n",
    "        # Calculate accuracy on the test set\n",
    "        accuracy = tf.reduce_mean(tf.cast(correct_prediction, \"float\"))\n",
    "        print(accuracy)\n",
    "        train_accuracy = accuracy.eval({X: X_train, Y: Y_train})\n",
    "        test_accuracy = accuracy.eval({X: X_test, Y: Y_test})\n",
    "        print(\"Train Accuracy:\", train_accuracy)\n",
    "        print(\"Test Accuracy:\", test_accuracy)\n",
    "                \n",
    "        return train_accuracy, test_accuracy, parameters"
   ]
  },
  {
   "cell_type": "markdown",
   "metadata": {},
   "source": [
    "Run the following cell to train your model for 100 epochs. Check if your cost after epoch 0 and 5 matches our output. If not, stop the cell and go back to your code!"
   ]
  },
  {
   "cell_type": "code",
   "execution_count": 21,
   "metadata": {
    "collapsed": true,
    "jupyter": {
     "outputs_hidden": true
    }
   },
   "outputs": [
    {
     "output_type": "stream",
     "name": "stdout",
     "text": [
      "Cost after epoch 0: 1.917920\n",
      "Cost after epoch 5: 1.532475\n",
      "Cost after epoch 10: 1.014804\n",
      "Cost after epoch 15: 0.885137\n",
      "Cost after epoch 20: 0.766963\n",
      "Cost after epoch 25: 0.651208\n",
      "Cost after epoch 30: 0.613356\n",
      "Cost after epoch 35: 0.605931\n",
      "Cost after epoch 40: 0.534713\n",
      "Cost after epoch 45: 0.551402\n",
      "Cost after epoch 50: 0.496976\n",
      "Cost after epoch 55: 0.454438\n",
      "Cost after epoch 60: 0.455496\n",
      "Cost after epoch 65: 0.458359\n",
      "Cost after epoch 70: 0.450040\n",
      "Cost after epoch 75: 0.410687\n",
      "Cost after epoch 80: 0.469005\n",
      "Cost after epoch 85: 0.389253\n",
      "Cost after epoch 90: 0.363808\n",
      "Cost after epoch 95: 0.376132\n"
     ]
    },
    {
     "output_type": "display_data",
     "data": {
      "image/png": "[encoded data removed]",
      "text/plain": "<matplotlib.figure.Figure at 0x1648ffbfcf8>",
      "image/svg+xml": "<?xml version=\"1.0\" encoding=\"utf-8\" standalone=\"no\"?>\r\n<!DOCTYPE svg PUBLIC \"-//W3C//DTD SVG 1.1//EN\"\r\n  \"http://www.w3.org/Graphics/SVG/1.1/DTD/svg11.dtd\">\r\n<!-- Created with matplotlib (http://matplotlib.org/) -->\r\n<svg height=\"277pt\" version=\"1.1\" viewBox=\"0 0 389 277\" width=\"389pt\" xmlns=\"http://www.w3.org/2000/svg\" xmlns:xlink=\"http://www.w3.org/1999/xlink\">\r\n <defs>\r\n  <style type=\"text/css\">\r\n*{stroke-linecap:butt;stroke-linejoin:round;}\r\n  </style>\r\n </defs>\r\n <g id=\"figure_1\">\r\n  <g id=\"patch_1\">\r\n   <path d=\"M 0 277.314375 \r\nL 389.28125 277.314375 \r\nL 389.28125 0 \r\nL 0 0 \r\nz\r\n\" style=\"fill:none;\"/>\r\n  </g>\r\n  <g id=\"axes_1\">\r\n   <g id=\"patch_2\">\r\n    <path d=\"M 43.78125 239.758125 \r\nL 378.58125 239.758125 \r\nL 378.58125 22.318125 \r\nL 43.78125 22.318125 \r\nz\r\n\" style=\"fill:#ffffff;\"/>\r\n   </g>\r\n   <g id=\"matplotlib.axis_1\">\r\n    <g id=\"xtick_1\">\r\n     <g id=\"line2d_1\">\r\n      <defs>\r\n       <path d=\"M 0 0 \r\nL 0 3.5 \r\n\" id=\"m2f0bdf976a\" style=\"stroke:#000000;stroke-width:0.8;\"/>\r\n      </defs>\r\n      <g>\r\n       <use style=\"stroke:#000000;stroke-width:0.8;\" x=\"58.999432\" xlink:href=\"#m2f0bdf976a\" y=\"239.758125\"/>\r\n      </g>\r\n     </g>\r\n     <g id=\"text_1\">\r\n      <!-- 0 -->\r\n      <defs>\r\n       <path d=\"M 31.78125 66.40625 \r\nQ 24.171875 66.40625 20.328125 58.90625 \r\nQ 16.5 51.421875 16.5 36.375 \r\nQ 16.5 21.390625 20.328125 13.890625 \r\nQ 24.171875 6.390625 31.78125 6.390625 \r\nQ 39.453125 6.390625 43.28125 13.890625 \r\nQ 47.125 21.390625 47.125 36.375 \r\nQ 47.125 51.421875 43.28125 58.90625 \r\nQ 39.453125 66.40625 31.78125 66.40625 \r\nz\r\nM 31.78125 74.21875 \r\nQ 44.046875 74.21875 50.515625 64.515625 \r\nQ 56.984375 54.828125 56.984375 36.375 \r\nQ 56.984375 17.96875 50.515625 8.265625 \r\nQ 44.046875 -1.421875 31.78125 -1.421875 \r\nQ 19.53125 -1.421875 13.0625 8.265625 \r\nQ 6.59375 17.96875 6.59375 36.375 \r\nQ 6.59375 54.828125 13.0625 64.515625 \r\nQ 19.53125 74.21875 31.78125 74.21875 \r\nz\r\n\" id=\"DejaVuSans-30\"/>\r\n      </defs>\r\n      <g transform=\"translate(55.818182 254.356562)scale(0.1 -0.1)\">\r\n       <use xlink:href=\"#DejaVuSans-30\"/>\r\n      </g>\r\n     </g>\r\n    </g>\r\n    <g id=\"xtick_2\">\r\n     <g id=\"line2d_2\">\r\n      <g>\r\n       <use style=\"stroke:#000000;stroke-width:0.8;\" x=\"120.487035\" xlink:href=\"#m2f0bdf976a\" y=\"239.758125\"/>\r\n      </g>\r\n     </g>\r\n     <g id=\"text_2\">\r\n      <!-- 20 -->\r\n      <defs>\r\n       <path d=\"M 19.1875 8.296875 \r\nL 53.609375 8.296875 \r\nL 53.609375 0 \r\nL 7.328125 0 \r\nL 7.328125 8.296875 \r\nQ 12.9375 14.109375 22.625 23.890625 \r\nQ 32.328125 33.6875 34.8125 36.53125 \r\nQ 39.546875 41.84375 41.421875 45.53125 \r\nQ 43.3125 49.21875 43.3125 52.78125 \r\nQ 43.3125 58.59375 39.234375 62.25 \r\nQ 35.15625 65.921875 28.609375 65.921875 \r\nQ 23.96875 65.921875 18.8125 64.3125 \r\nQ 13.671875 62.703125 7.8125 59.421875 \r\nL 7.8125 69.390625 \r\nQ 13.765625 71.78125 18.9375 73 \r\nQ 24.125 74.21875 28.421875 74.21875 \r\nQ 39.75 74.21875 46.484375 68.546875 \r\nQ 53.21875 62.890625 53.21875 53.421875 \r\nQ 53.21875 48.921875 51.53125 44.890625 \r\nQ 49.859375 40.875 45.40625 35.40625 \r\nQ 44.1875 33.984375 37.640625 27.21875 \r\nQ 31.109375 20.453125 19.1875 8.296875 \r\nz\r\n\" id=\"DejaVuSans-32\"/>\r\n      </defs>\r\n      <g transform=\"translate(114.124535 254.356562)scale(0.1 -0.1)\">\r\n       <use xlink:href=\"#DejaVuSans-32\"/>\r\n       <use x=\"63.623047\" xlink:href=\"#DejaVuSans-30\"/>\r\n      </g>\r\n     </g>\r\n    </g>\r\n    <g id=\"xtick_3\">\r\n     <g id=\"line2d_3\">\r\n      <g>\r\n       <use style=\"stroke:#000000;stroke-width:0.8;\" x=\"181.974638\" xlink:href=\"#m2f0bdf976a\" y=\"239.758125\"/>\r\n      </g>\r\n     </g>\r\n     <g id=\"text_3\">\r\n      <!-- 40 -->\r\n      <defs>\r\n       <path d=\"M 37.796875 64.3125 \r\nL 12.890625 25.390625 \r\nL 37.796875 25.390625 \r\nz\r\nM 35.203125 72.90625 \r\nL 47.609375 72.90625 \r\nL 47.609375 25.390625 \r\nL 58.015625 25.390625 \r\nL 58.015625 17.1875 \r\nL 47.609375 17.1875 \r\nL 47.609375 0 \r\nL 37.796875 0 \r\nL 37.796875 17.1875 \r\nL 4.890625 17.1875 \r\nL 4.890625 26.703125 \r\nz\r\n\" id=\"DejaVuSans-34\"/>\r\n      </defs>\r\n      <g transform=\"translate(175.612138 254.356562)scale(0.1 -0.1)\">\r\n       <use xlink:href=\"#DejaVuSans-34\"/>\r\n       <use x=\"63.623047\" xlink:href=\"#DejaVuSans-30\"/>\r\n      </g>\r\n     </g>\r\n    </g>\r\n    <g id=\"xtick_4\">\r\n     <g id=\"line2d_4\">\r\n      <g>\r\n       <use style=\"stroke:#000000;stroke-width:0.8;\" x=\"243.462242\" xlink:href=\"#m2f0bdf976a\" y=\"239.758125\"/>\r\n      </g>\r\n     </g>\r\n     <g id=\"text_4\">\r\n      <!-- 60 -->\r\n      <defs>\r\n       <path d=\"M 33.015625 40.375 \r\nQ 26.375 40.375 22.484375 35.828125 \r\nQ 18.609375 31.296875 18.609375 23.390625 \r\nQ 18.609375 15.53125 22.484375 10.953125 \r\nQ 26.375 6.390625 33.015625 6.390625 \r\nQ 39.65625 6.390625 43.53125 10.953125 \r\nQ 47.40625 15.53125 47.40625 23.390625 \r\nQ 47.40625 31.296875 43.53125 35.828125 \r\nQ 39.65625 40.375 33.015625 40.375 \r\nz\r\nM 52.59375 71.296875 \r\nL 52.59375 62.3125 \r\nQ 48.875 64.0625 45.09375 64.984375 \r\nQ 41.3125 65.921875 37.59375 65.921875 \r\nQ 27.828125 65.921875 22.671875 59.328125 \r\nQ 17.53125 52.734375 16.796875 39.40625 \r\nQ 19.671875 43.65625 24.015625 45.921875 \r\nQ 28.375 48.1875 33.59375 48.1875 \r\nQ 44.578125 48.1875 50.953125 41.515625 \r\nQ 57.328125 34.859375 57.328125 23.390625 \r\nQ 57.328125 12.15625 50.6875 5.359375 \r\nQ 44.046875 -1.421875 33.015625 -1.421875 \r\nQ 20.359375 -1.421875 13.671875 8.265625 \r\nQ 6.984375 17.96875 6.984375 36.375 \r\nQ 6.984375 53.65625 15.1875 63.9375 \r\nQ 23.390625 74.21875 37.203125 74.21875 \r\nQ 40.921875 74.21875 44.703125 73.484375 \r\nQ 48.484375 72.75 52.59375 71.296875 \r\nz\r\n\" id=\"DejaVuSans-36\"/>\r\n      </defs>\r\n      <g transform=\"translate(237.099742 254.356562)scale(0.1 -0.1)\">\r\n       <use xlink:href=\"#DejaVuSans-36\"/>\r\n       <use x=\"63.623047\" xlink:href=\"#DejaVuSans-30\"/>\r\n      </g>\r\n     </g>\r\n    </g>\r\n    <g id=\"xtick_5\">\r\n     <g id=\"line2d_5\">\r\n      <g>\r\n       <use style=\"stroke:#000000;stroke-width:0.8;\" x=\"304.949845\" xlink:href=\"#m2f0bdf976a\" y=\"239.758125\"/>\r\n      </g>\r\n     </g>\r\n     <g id=\"text_5\">\r\n      <!-- 80 -->\r\n      <defs>\r\n       <path d=\"M 31.78125 34.625 \r\nQ 24.75 34.625 20.71875 30.859375 \r\nQ 16.703125 27.09375 16.703125 20.515625 \r\nQ 16.703125 13.921875 20.71875 10.15625 \r\nQ 24.75 6.390625 31.78125 6.390625 \r\nQ 38.8125 6.390625 42.859375 10.171875 \r\nQ 46.921875 13.96875 46.921875 20.515625 \r\nQ 46.921875 27.09375 42.890625 30.859375 \r\nQ 38.875 34.625 31.78125 34.625 \r\nz\r\nM 21.921875 38.8125 \r\nQ 15.578125 40.375 12.03125 44.71875 \r\nQ 8.5 49.078125 8.5 55.328125 \r\nQ 8.5 64.0625 14.71875 69.140625 \r\nQ 20.953125 74.21875 31.78125 74.21875 \r\nQ 42.671875 74.21875 48.875 69.140625 \r\nQ 55.078125 64.0625 55.078125 55.328125 \r\nQ 55.078125 49.078125 51.53125 44.71875 \r\nQ 48 40.375 41.703125 38.8125 \r\nQ 48.828125 37.15625 52.796875 32.3125 \r\nQ 56.78125 27.484375 56.78125 20.515625 \r\nQ 56.78125 9.90625 50.3125 4.234375 \r\nQ 43.84375 -1.421875 31.78125 -1.421875 \r\nQ 19.734375 -1.421875 13.25 4.234375 \r\nQ 6.78125 9.90625 6.78125 20.515625 \r\nQ 6.78125 27.484375 10.78125 32.3125 \r\nQ 14.796875 37.15625 21.921875 38.8125 \r\nz\r\nM 18.3125 54.390625 \r\nQ 18.3125 48.734375 21.84375 45.5625 \r\nQ 25.390625 42.390625 31.78125 42.390625 \r\nQ 38.140625 42.390625 41.71875 45.5625 \r\nQ 45.3125 48.734375 45.3125 54.390625 \r\nQ 45.3125 60.0625 41.71875 63.234375 \r\nQ 38.140625 66.40625 31.78125 66.40625 \r\nQ 25.390625 66.40625 21.84375 63.234375 \r\nQ 18.3125 60.0625 18.3125 54.390625 \r\nz\r\n\" id=\"DejaVuSans-38\"/>\r\n      </defs>\r\n      <g transform=\"translate(298.587345 254.356562)scale(0.1 -0.1)\">\r\n       <use xlink:href=\"#DejaVuSans-38\"/>\r\n       <use x=\"63.623047\" xlink:href=\"#DejaVuSans-30\"/>\r\n      </g>\r\n     </g>\r\n    </g>\r\n    <g id=\"xtick_6\">\r\n     <g id=\"line2d_6\">\r\n      <g>\r\n       <use style=\"stroke:#000000;stroke-width:0.8;\" x=\"366.437448\" xlink:href=\"#m2f0bdf976a\" y=\"239.758125\"/>\r\n      </g>\r\n     </g>\r\n     <g id=\"text_6\">\r\n      <!-- 100 -->\r\n      <defs>\r\n       <path d=\"M 12.40625 8.296875 \r\nL 28.515625 8.296875 \r\nL 28.515625 63.921875 \r\nL 10.984375 60.40625 \r\nL 10.984375 69.390625 \r\nL 28.421875 72.90625 \r\nL 38.28125 72.90625 \r\nL 38.28125 8.296875 \r\nL 54.390625 8.296875 \r\nL 54.390625 0 \r\nL 12.40625 0 \r\nz\r\n\" id=\"DejaVuSans-31\"/>\r\n      </defs>\r\n      <g transform=\"translate(356.893698 254.356562)scale(0.1 -0.1)\">\r\n       <use xlink:href=\"#DejaVuSans-31\"/>\r\n       <use x=\"63.623047\" xlink:href=\"#DejaVuSans-30\"/>\r\n       <use x=\"127.246094\" xlink:href=\"#DejaVuSans-30\"/>\r\n      </g>\r\n     </g>\r\n    </g>\r\n    <g id=\"text_7\">\r\n     <!-- iterations (per tens) -->\r\n     <defs>\r\n      <path d=\"M 9.421875 54.6875 \r\nL 18.40625 54.6875 \r\nL 18.40625 0 \r\nL 9.421875 0 \r\nz\r\nM 9.421875 75.984375 \r\nL 18.40625 75.984375 \r\nL 18.40625 64.59375 \r\nL 9.421875 64.59375 \r\nz\r\n\" id=\"DejaVuSans-69\"/>\r\n      <path d=\"M 18.3125 70.21875 \r\nL 18.3125 54.6875 \r\nL 36.8125 54.6875 \r\nL 36.8125 47.703125 \r\nL 18.3125 47.703125 \r\nL 18.3125 18.015625 \r\nQ 18.3125 11.328125 20.140625 9.421875 \r\nQ 21.96875 7.515625 27.59375 7.515625 \r\nL 36.8125 7.515625 \r\nL 36.8125 0 \r\nL 27.59375 0 \r\nQ 17.1875 0 13.234375 3.875 \r\nQ 9.28125 7.765625 9.28125 18.015625 \r\nL 9.28125 47.703125 \r\nL 2.6875 47.703125 \r\nL 2.6875 54.6875 \r\nL 9.28125 54.6875 \r\nL 9.28125 70.21875 \r\nz\r\n\" id=\"DejaVuSans-74\"/>\r\n      <path d=\"M 56.203125 29.59375 \r\nL 56.203125 25.203125 \r\nL 14.890625 25.203125 \r\nQ 15.484375 15.921875 20.484375 11.0625 \r\nQ 25.484375 6.203125 34.421875 6.203125 \r\nQ 39.59375 6.203125 44.453125 7.46875 \r\nQ 49.3125 8.734375 54.109375 11.28125 \r\nL 54.109375 2.78125 \r\nQ 49.265625 0.734375 44.1875 -0.34375 \r\nQ 39.109375 -1.421875 33.890625 -1.421875 \r\nQ 20.796875 -1.421875 13.15625 6.1875 \r\nQ 5.515625 13.8125 5.515625 26.8125 \r\nQ 5.515625 40.234375 12.765625 48.109375 \r\nQ 20.015625 56 32.328125 56 \r\nQ 43.359375 56 49.78125 48.890625 \r\nQ 56.203125 41.796875 56.203125 29.59375 \r\nz\r\nM 47.21875 32.234375 \r\nQ 47.125 39.59375 43.09375 43.984375 \r\nQ 39.0625 48.390625 32.421875 48.390625 \r\nQ 24.90625 48.390625 20.390625 44.140625 \r\nQ 15.875 39.890625 15.1875 32.171875 \r\nz\r\n\" id=\"DejaVuSans-65\"/>\r\n      <path d=\"M 41.109375 46.296875 \r\nQ 39.59375 47.171875 37.8125 47.578125 \r\nQ 36.03125 48 33.890625 48 \r\nQ 26.265625 48 22.1875 43.046875 \r\nQ 18.109375 38.09375 18.109375 28.8125 \r\nL 18.109375 0 \r\nL 9.078125 0 \r\nL 9.078125 54.6875 \r\nL 18.109375 54.6875 \r\nL 18.109375 46.1875 \r\nQ 20.953125 51.171875 25.484375 53.578125 \r\nQ 30.03125 56 36.53125 56 \r\nQ 37.453125 56 38.578125 55.875 \r\nQ 39.703125 55.765625 41.0625 55.515625 \r\nz\r\n\" id=\"DejaVuSans-72\"/>\r\n      <path d=\"M 34.28125 27.484375 \r\nQ 23.390625 27.484375 19.1875 25 \r\nQ 14.984375 22.515625 14.984375 16.5 \r\nQ 14.984375 11.71875 18.140625 8.90625 \r\nQ 21.296875 6.109375 26.703125 6.109375 \r\nQ 34.1875 6.109375 38.703125 11.40625 \r\nQ 43.21875 16.703125 43.21875 25.484375 \r\nL 43.21875 27.484375 \r\nz\r\nM 52.203125 31.203125 \r\nL 52.203125 0 \r\nL 43.21875 0 \r\nL 43.21875 8.296875 \r\nQ 40.140625 3.328125 35.546875 0.953125 \r\nQ 30.953125 -1.421875 24.3125 -1.421875 \r\nQ 15.921875 -1.421875 10.953125 3.296875 \r\nQ 6 8.015625 6 15.921875 \r\nQ 6 25.140625 12.171875 29.828125 \r\nQ 18.359375 34.515625 30.609375 34.515625 \r\nL 43.21875 34.515625 \r\nL 43.21875 35.40625 \r\nQ 43.21875 41.609375 39.140625 45 \r\nQ 35.0625 48.390625 27.6875 48.390625 \r\nQ 23 48.390625 18.546875 47.265625 \r\nQ 14.109375 46.140625 10.015625 43.890625 \r\nL 10.015625 52.203125 \r\nQ 14.9375 54.109375 19.578125 55.046875 \r\nQ 24.21875 56 28.609375 56 \r\nQ 40.484375 56 46.34375 49.84375 \r\nQ 52.203125 43.703125 52.203125 31.203125 \r\nz\r\n\" id=\"DejaVuSans-61\"/>\r\n      <path d=\"M 30.609375 48.390625 \r\nQ 23.390625 48.390625 19.1875 42.75 \r\nQ 14.984375 37.109375 14.984375 27.296875 \r\nQ 14.984375 17.484375 19.15625 11.84375 \r\nQ 23.34375 6.203125 30.609375 6.203125 \r\nQ 37.796875 6.203125 41.984375 11.859375 \r\nQ 46.1875 17.53125 46.1875 27.296875 \r\nQ 46.1875 37.015625 41.984375 42.703125 \r\nQ 37.796875 48.390625 30.609375 48.390625 \r\nz\r\nM 30.609375 56 \r\nQ 42.328125 56 49.015625 48.375 \r\nQ 55.71875 40.765625 55.71875 27.296875 \r\nQ 55.71875 13.875 49.015625 6.21875 \r\nQ 42.328125 -1.421875 30.609375 -1.421875 \r\nQ 18.84375 -1.421875 12.171875 6.21875 \r\nQ 5.515625 13.875 5.515625 27.296875 \r\nQ 5.515625 40.765625 12.171875 48.375 \r\nQ 18.84375 56 30.609375 56 \r\nz\r\n\" id=\"DejaVuSans-6f\"/>\r\n      <path d=\"M 54.890625 33.015625 \r\nL 54.890625 0 \r\nL 45.90625 0 \r\nL 45.90625 32.71875 \r\nQ 45.90625 40.484375 42.875 44.328125 \r\nQ 39.84375 48.1875 33.796875 48.1875 \r\nQ 26.515625 48.1875 22.3125 43.546875 \r\nQ 18.109375 38.921875 18.109375 30.90625 \r\nL 18.109375 0 \r\nL 9.078125 0 \r\nL 9.078125 54.6875 \r\nL 18.109375 54.6875 \r\nL 18.109375 46.1875 \r\nQ 21.34375 51.125 25.703125 53.5625 \r\nQ 30.078125 56 35.796875 56 \r\nQ 45.21875 56 50.046875 50.171875 \r\nQ 54.890625 44.34375 54.890625 33.015625 \r\nz\r\n\" id=\"DejaVuSans-6e\"/>\r\n      <path d=\"M 44.28125 53.078125 \r\nL 44.28125 44.578125 \r\nQ 40.484375 46.53125 36.375 47.5 \r\nQ 32.28125 48.484375 27.875 48.484375 \r\nQ 21.1875 48.484375 17.84375 46.4375 \r\nQ 14.5 44.390625 14.5 40.28125 \r\nQ 14.5 37.15625 16.890625 35.375 \r\nQ 19.28125 33.59375 26.515625 31.984375 \r\nL 29.59375 31.296875 \r\nQ 39.15625 29.25 43.1875 25.515625 \r\nQ 47.21875 21.78125 47.21875 15.09375 \r\nQ 47.21875 7.46875 41.1875 3.015625 \r\nQ 35.15625 -1.421875 24.609375 -1.421875 \r\nQ 20.21875 -1.421875 15.453125 -0.5625 \r\nQ 10.6875 0.296875 5.421875 2 \r\nL 5.421875 11.28125 \r\nQ 10.40625 8.6875 15.234375 7.390625 \r\nQ 20.0625 6.109375 24.8125 6.109375 \r\nQ 31.15625 6.109375 34.5625 8.28125 \r\nQ 37.984375 10.453125 37.984375 14.40625 \r\nQ 37.984375 18.0625 35.515625 20.015625 \r\nQ 33.0625 21.96875 24.703125 23.78125 \r\nL 21.578125 24.515625 \r\nQ 13.234375 26.265625 9.515625 29.90625 \r\nQ 5.8125 33.546875 5.8125 39.890625 \r\nQ 5.8125 47.609375 11.28125 51.796875 \r\nQ 16.75 56 26.8125 56 \r\nQ 31.78125 56 36.171875 55.265625 \r\nQ 40.578125 54.546875 44.28125 53.078125 \r\nz\r\n\" id=\"DejaVuSans-73\"/>\r\n      <path id=\"DejaVuSans-20\"/>\r\n      <path d=\"M 31 75.875 \r\nQ 24.46875 64.65625 21.28125 53.65625 \r\nQ 18.109375 42.671875 18.109375 31.390625 \r\nQ 18.109375 20.125 21.3125 9.0625 \r\nQ 24.515625 -2 31 -13.1875 \r\nL 23.1875 -13.1875 \r\nQ 15.875 -1.703125 12.234375 9.375 \r\nQ 8.59375 20.453125 8.59375 31.390625 \r\nQ 8.59375 42.28125 12.203125 53.3125 \r\nQ 15.828125 64.359375 23.1875 75.875 \r\nz\r\n\" id=\"DejaVuSans-28\"/>\r\n      <path d=\"M 18.109375 8.203125 \r\nL 18.109375 -20.796875 \r\nL 9.078125 -20.796875 \r\nL 9.078125 54.6875 \r\nL 18.109375 54.6875 \r\nL 18.109375 46.390625 \r\nQ 20.953125 51.265625 25.265625 53.625 \r\nQ 29.59375 56 35.59375 56 \r\nQ 45.5625 56 51.78125 48.09375 \r\nQ 58.015625 40.1875 58.015625 27.296875 \r\nQ 58.015625 14.40625 51.78125 6.484375 \r\nQ 45.5625 -1.421875 35.59375 -1.421875 \r\nQ 29.59375 -1.421875 25.265625 0.953125 \r\nQ 20.953125 3.328125 18.109375 8.203125 \r\nz\r\nM 48.6875 27.296875 \r\nQ 48.6875 37.203125 44.609375 42.84375 \r\nQ 40.53125 48.484375 33.40625 48.484375 \r\nQ 26.265625 48.484375 22.1875 42.84375 \r\nQ 18.109375 37.203125 18.109375 27.296875 \r\nQ 18.109375 17.390625 22.1875 11.75 \r\nQ 26.265625 6.109375 33.40625 6.109375 \r\nQ 40.53125 6.109375 44.609375 11.75 \r\nQ 48.6875 17.390625 48.6875 27.296875 \r\nz\r\n\" id=\"DejaVuSans-70\"/>\r\n      <path d=\"M 8.015625 75.875 \r\nL 15.828125 75.875 \r\nQ 23.140625 64.359375 26.78125 53.3125 \r\nQ 30.421875 42.28125 30.421875 31.390625 \r\nQ 30.421875 20.453125 26.78125 9.375 \r\nQ 23.140625 -1.703125 15.828125 -13.1875 \r\nL 8.015625 -13.1875 \r\nQ 14.5 -2 17.703125 9.0625 \r\nQ 20.90625 20.125 20.90625 31.390625 \r\nQ 20.90625 42.671875 17.703125 53.65625 \r\nQ 14.5 64.65625 8.015625 75.875 \r\nz\r\n\" id=\"DejaVuSans-29\"/>\r\n     </defs>\r\n     <g transform=\"translate(161.257812 268.034687)scale(0.1 -0.1)\">\r\n      <use xlink:href=\"#DejaVuSans-69\"/>\r\n      <use x=\"27.783203\" xlink:href=\"#DejaVuSans-74\"/>\r\n      <use x=\"66.992188\" xlink:href=\"#DejaVuSans-65\"/>\r\n      <use x=\"128.515625\" xlink:href=\"#DejaVuSans-72\"/>\r\n      <use x=\"169.628906\" xlink:href=\"#DejaVuSans-61\"/>\r\n      <use x=\"230.908203\" xlink:href=\"#DejaVuSans-74\"/>\r\n      <use x=\"270.117188\" xlink:href=\"#DejaVuSans-69\"/>\r\n      <use x=\"297.900391\" xlink:href=\"#DejaVuSans-6f\"/>\r\n      <use x=\"359.082031\" xlink:href=\"#DejaVuSans-6e\"/>\r\n      <use x=\"422.460938\" xlink:href=\"#DejaVuSans-73\"/>\r\n      <use x=\"474.560547\" xlink:href=\"#DejaVuSans-20\"/>\r\n      <use x=\"506.347656\" xlink:href=\"#DejaVuSans-28\"/>\r\n      <use x=\"545.361328\" xlink:href=\"#DejaVuSans-70\"/>\r\n      <use x=\"608.837891\" xlink:href=\"#DejaVuSans-65\"/>\r\n      <use x=\"670.361328\" xlink:href=\"#DejaVuSans-72\"/>\r\n      <use x=\"711.474609\" xlink:href=\"#DejaVuSans-20\"/>\r\n      <use x=\"743.261719\" xlink:href=\"#DejaVuSans-74\"/>\r\n      <use x=\"782.470703\" xlink:href=\"#DejaVuSans-65\"/>\r\n      <use x=\"843.994141\" xlink:href=\"#DejaVuSans-6e\"/>\r\n      <use x=\"907.373047\" xlink:href=\"#DejaVuSans-73\"/>\r\n      <use x=\"959.472656\" xlink:href=\"#DejaVuSans-29\"/>\r\n     </g>\r\n    </g>\r\n   </g>\r\n   <g id=\"matplotlib.axis_2\">\r\n    <g id=\"ytick_1\">\r\n     <g id=\"line2d_7\">\r\n      <defs>\r\n       <path d=\"M 0 0 \r\nL -3.5 0 \r\n\" id=\"m0982ddd505\" style=\"stroke:#000000;stroke-width:0.8;\"/>\r\n      </defs>\r\n      <g>\r\n       <use style=\"stroke:#000000;stroke-width:0.8;\" x=\"43.78125\" xlink:href=\"#m0982ddd505\" y=\"225.271047\"/>\r\n      </g>\r\n     </g>\r\n     <g id=\"text_8\">\r\n      <!-- 0.4 -->\r\n      <defs>\r\n       <path d=\"M 10.6875 12.40625 \r\nL 21 12.40625 \r\nL 21 0 \r\nL 10.6875 0 \r\nz\r\n\" id=\"DejaVuSans-2e\"/>\r\n      </defs>\r\n      <g transform=\"translate(20.878125 229.070266)scale(0.1 -0.1)\">\r\n       <use xlink:href=\"#DejaVuSans-30\"/>\r\n       <use x=\"63.623047\" xlink:href=\"#DejaVuSans-2e\"/>\r\n       <use x=\"95.410156\" xlink:href=\"#DejaVuSans-34\"/>\r\n      </g>\r\n     </g>\r\n    </g>\r\n    <g id=\"ytick_2\">\r\n     <g id=\"line2d_8\">\r\n      <g>\r\n       <use style=\"stroke:#000000;stroke-width:0.8;\" x=\"43.78125\" xlink:href=\"#m0982ddd505\" y=\"199.832376\"/>\r\n      </g>\r\n     </g>\r\n     <g id=\"text_9\">\r\n      <!-- 0.6 -->\r\n      <g transform=\"translate(20.878125 203.631594)scale(0.1 -0.1)\">\r\n       <use xlink:href=\"#DejaVuSans-30\"/>\r\n       <use x=\"63.623047\" xlink:href=\"#DejaVuSans-2e\"/>\r\n       <use x=\"95.410156\" xlink:href=\"#DejaVuSans-36\"/>\r\n      </g>\r\n     </g>\r\n    </g>\r\n    <g id=\"ytick_3\">\r\n     <g id=\"line2d_9\">\r\n      <g>\r\n       <use style=\"stroke:#000000;stroke-width:0.8;\" x=\"43.78125\" xlink:href=\"#m0982ddd505\" y=\"174.393704\"/>\r\n      </g>\r\n     </g>\r\n     <g id=\"text_10\">\r\n      <!-- 0.8 -->\r\n      <g transform=\"translate(20.878125 178.192923)scale(0.1 -0.1)\">\r\n       <use xlink:href=\"#DejaVuSans-30\"/>\r\n       <use x=\"63.623047\" xlink:href=\"#DejaVuSans-2e\"/>\r\n       <use x=\"95.410156\" xlink:href=\"#DejaVuSans-38\"/>\r\n      </g>\r\n     </g>\r\n    </g>\r\n    <g id=\"ytick_4\">\r\n     <g id=\"line2d_10\">\r\n      <g>\r\n       <use style=\"stroke:#000000;stroke-width:0.8;\" x=\"43.78125\" xlink:href=\"#m0982ddd505\" y=\"148.955033\"/>\r\n      </g>\r\n     </g>\r\n     <g id=\"text_11\">\r\n      <!-- 1.0 -->\r\n      <g transform=\"translate(20.878125 152.754251)scale(0.1 -0.1)\">\r\n       <use xlink:href=\"#DejaVuSans-31\"/>\r\n       <use x=\"63.623047\" xlink:href=\"#DejaVuSans-2e\"/>\r\n       <use x=\"95.410156\" xlink:href=\"#DejaVuSans-30\"/>\r\n      </g>\r\n     </g>\r\n    </g>\r\n    <g id=\"ytick_5\">\r\n     <g id=\"line2d_11\">\r\n      <g>\r\n       <use style=\"stroke:#000000;stroke-width:0.8;\" x=\"43.78125\" xlink:href=\"#m0982ddd505\" y=\"123.516361\"/>\r\n      </g>\r\n     </g>\r\n     <g id=\"text_12\">\r\n      <!-- 1.2 -->\r\n      <g transform=\"translate(20.878125 127.31558)scale(0.1 -0.1)\">\r\n       <use xlink:href=\"#DejaVuSans-31\"/>\r\n       <use x=\"63.623047\" xlink:href=\"#DejaVuSans-2e\"/>\r\n       <use x=\"95.410156\" xlink:href=\"#DejaVuSans-32\"/>\r\n      </g>\r\n     </g>\r\n    </g>\r\n    <g id=\"ytick_6\">\r\n     <g id=\"line2d_12\">\r\n      <g>\r\n       <use style=\"stroke:#000000;stroke-width:0.8;\" x=\"43.78125\" xlink:href=\"#m0982ddd505\" y=\"98.07769\"/>\r\n      </g>\r\n     </g>\r\n     <g id=\"text_13\">\r\n      <!-- 1.4 -->\r\n      <g transform=\"translate(20.878125 101.876909)scale(0.1 -0.1)\">\r\n       <use xlink:href=\"#DejaVuSans-31\"/>\r\n       <use x=\"63.623047\" xlink:href=\"#DejaVuSans-2e\"/>\r\n       <use x=\"95.410156\" xlink:href=\"#DejaVuSans-34\"/>\r\n      </g>\r\n     </g>\r\n    </g>\r\n    <g id=\"ytick_7\">\r\n     <g id=\"line2d_13\">\r\n      <g>\r\n       <use style=\"stroke:#000000;stroke-width:0.8;\" x=\"43.78125\" xlink:href=\"#m0982ddd505\" y=\"72.639019\"/>\r\n      </g>\r\n     </g>\r\n     <g id=\"text_14\">\r\n      <!-- 1.6 -->\r\n      <g transform=\"translate(20.878125 76.438237)scale(0.1 -0.1)\">\r\n       <use xlink:href=\"#DejaVuSans-31\"/>\r\n       <use x=\"63.623047\" xlink:href=\"#DejaVuSans-2e\"/>\r\n       <use x=\"95.410156\" xlink:href=\"#DejaVuSans-36\"/>\r\n      </g>\r\n     </g>\r\n    </g>\r\n    <g id=\"ytick_8\">\r\n     <g id=\"line2d_14\">\r\n      <g>\r\n       <use style=\"stroke:#000000;stroke-width:0.8;\" x=\"43.78125\" xlink:href=\"#m0982ddd505\" y=\"47.200347\"/>\r\n      </g>\r\n     </g>\r\n     <g id=\"text_15\">\r\n      <!-- 1.8 -->\r\n      <g transform=\"translate(20.878125 50.999566)scale(0.1 -0.1)\">\r\n       <use xlink:href=\"#DejaVuSans-31\"/>\r\n       <use x=\"63.623047\" xlink:href=\"#DejaVuSans-2e\"/>\r\n       <use x=\"95.410156\" xlink:href=\"#DejaVuSans-38\"/>\r\n      </g>\r\n     </g>\r\n    </g>\r\n    <g id=\"text_16\">\r\n     <!-- cost -->\r\n     <defs>\r\n      <path d=\"M 48.78125 52.59375 \r\nL 48.78125 44.1875 \r\nQ 44.96875 46.296875 41.140625 47.34375 \r\nQ 37.3125 48.390625 33.40625 48.390625 \r\nQ 24.65625 48.390625 19.8125 42.84375 \r\nQ 14.984375 37.3125 14.984375 27.296875 \r\nQ 14.984375 17.28125 19.8125 11.734375 \r\nQ 24.65625 6.203125 33.40625 6.203125 \r\nQ 37.3125 6.203125 41.140625 7.25 \r\nQ 44.96875 8.296875 48.78125 10.40625 \r\nL 48.78125 2.09375 \r\nQ 45.015625 0.34375 40.984375 -0.53125 \r\nQ 36.96875 -1.421875 32.421875 -1.421875 \r\nQ 20.0625 -1.421875 12.78125 6.34375 \r\nQ 5.515625 14.109375 5.515625 27.296875 \r\nQ 5.515625 40.671875 12.859375 48.328125 \r\nQ 20.21875 56 33.015625 56 \r\nQ 37.15625 56 41.109375 55.140625 \r\nQ 45.0625 54.296875 48.78125 52.59375 \r\nz\r\n\" id=\"DejaVuSans-63\"/>\r\n     </defs>\r\n     <g transform=\"translate(14.798438 141.411562)rotate(-90)scale(0.1 -0.1)\">\r\n      <use xlink:href=\"#DejaVuSans-63\"/>\r\n      <use x=\"54.980469\" xlink:href=\"#DejaVuSans-6f\"/>\r\n      <use x=\"116.162109\" xlink:href=\"#DejaVuSans-73\"/>\r\n      <use x=\"168.261719\" xlink:href=\"#DejaVuSans-74\"/>\r\n     </g>\r\n    </g>\r\n   </g>\r\n   <g id=\"line2d_15\">\r\n    <path clip-path=\"url(#p2d0b1d4fd0)\" d=\"M 58.999432 32.201761 \r\nL 62.073812 34.22056 \r\nL 65.148192 35.362646 \r\nL 68.222572 39.704291 \r\nL 71.296952 54.128141 \r\nL 74.371333 81.227723 \r\nL 77.445713 102.975908 \r\nL 80.520093 117.421995 \r\nL 83.594473 132.940105 \r\nL 86.668853 139.631072 \r\nL 89.743233 147.07208 \r\nL 92.817614 153.243994 \r\nL 95.891994 153.533562 \r\nL 98.966374 158.117905 \r\nL 102.040754 155.354384 \r\nL 105.115134 163.564885 \r\nL 108.189514 170.4976 \r\nL 111.263895 174.0415 \r\nL 114.338275 175.719947 \r\nL 117.412655 175.711623 \r\nL 120.487035 178.595734 \r\nL 123.561415 180.823718 \r\nL 126.635795 185.229247 \r\nL 129.710176 187.853502 \r\nL 132.784556 186.066888 \r\nL 135.858936 193.319073 \r\nL 138.933316 193.958221 \r\nL 142.007696 191.846306 \r\nL 145.082076 193.502133 \r\nL 148.156457 192.928042 \r\nL 151.230837 198.133617 \r\nL 154.305217 192.421148 \r\nL 157.379597 198.774968 \r\nL 160.453977 197.276847 \r\nL 163.528357 198.457443 \r\nL 166.602738 199.077967 \r\nL 169.677118 202.322314 \r\nL 172.751498 203.758087 \r\nL 175.825878 203.189266 \r\nL 178.900258 204.64913 \r\nL 181.974638 208.13646 \r\nL 185.049019 206.778052 \r\nL 188.123399 210.158889 \r\nL 191.197779 209.477797 \r\nL 194.272159 209.961737 \r\nL 197.346539 206.013693 \r\nL 200.420919 203.484926 \r\nL 203.4953 208.830768 \r\nL 206.56968 212.823816 \r\nL 209.64406 213.174029 \r\nL 212.71844 212.936285 \r\nL 215.79282 215.496721 \r\nL 218.8672 212.50838 \r\nL 221.941581 216.015065 \r\nL 225.015961 215.990388 \r\nL 228.090341 218.34685 \r\nL 231.164721 213.301999 \r\nL 234.239101 215.919662 \r\nL 237.313481 217.946507 \r\nL 240.387862 217.162414 \r\nL 243.462242 218.212367 \r\nL 246.536622 218.640563 \r\nL 249.611002 219.772376 \r\nL 252.685382 217.724119 \r\nL 255.759762 217.647028 \r\nL 258.834143 217.848147 \r\nL 261.908523 216.096715 \r\nL 264.982903 221.632861 \r\nL 268.057283 221.78164 \r\nL 271.131663 218.849657 \r\nL 274.206043 218.90634 \r\nL 277.280424 219.813372 \r\nL 280.354804 216.806113 \r\nL 283.429184 217.370164 \r\nL 286.503564 217.131515 \r\nL 289.577944 223.911772 \r\nL 292.652324 223.696994 \r\nL 295.726705 223.810725 \r\nL 298.801085 221.230289 \r\nL 301.875465 214.373882 \r\nL 304.949845 216.494053 \r\nL 308.024225 220.167054 \r\nL 311.098605 224.874777 \r\nL 314.172986 219.534043 \r\nL 317.247366 224.032497 \r\nL 320.321746 226.637999 \r\nL 323.396126 226.426633 \r\nL 326.470506 226.477219 \r\nL 329.544886 225.962468 \r\nL 332.619267 228.943925 \r\nL 335.693647 229.874489 \r\nL 338.768027 227.750353 \r\nL 341.842407 225.048417 \r\nL 344.916787 224.610839 \r\nL 347.991167 228.963758 \r\nL 351.065548 228.306861 \r\nL 354.139928 226.143123 \r\nL 357.214308 225.019746 \r\nL 360.288688 226.436155 \r\nL 363.363068 226.662511 \r\n\" style=\"fill:none;stroke:#1f77b4;stroke-linecap:square;stroke-width:1.5;\"/>\r\n   </g>\r\n   <g id=\"patch_3\">\r\n    <path d=\"M 43.78125 239.758125 \r\nL 43.78125 22.318125 \r\n\" style=\"fill:none;stroke:#000000;stroke-linecap:square;stroke-linejoin:miter;stroke-width:0.8;\"/>\r\n   </g>\r\n   <g id=\"patch_4\">\r\n    <path d=\"M 378.58125 239.758125 \r\nL 378.58125 22.318125 \r\n\" style=\"fill:none;stroke:#000000;stroke-linecap:square;stroke-linejoin:miter;stroke-width:0.8;\"/>\r\n   </g>\r\n   <g id=\"patch_5\">\r\n    <path d=\"M 43.78125 239.758125 \r\nL 378.58125 239.758125 \r\n\" style=\"fill:none;stroke:#000000;stroke-linecap:square;stroke-linejoin:miter;stroke-width:0.8;\"/>\r\n   </g>\r\n   <g id=\"patch_6\">\r\n    <path d=\"M 43.78125 22.318125 \r\nL 378.58125 22.318125 \r\n\" style=\"fill:none;stroke:#000000;stroke-linecap:square;stroke-linejoin:miter;stroke-width:0.8;\"/>\r\n   </g>\r\n   <g id=\"text_17\">\r\n    <!-- Learning rate =0.009 -->\r\n    <defs>\r\n     <path d=\"M 9.8125 72.90625 \r\nL 19.671875 72.90625 \r\nL 19.671875 8.296875 \r\nL 55.171875 8.296875 \r\nL 55.171875 0 \r\nL 9.8125 0 \r\nz\r\n\" id=\"DejaVuSans-4c\"/>\r\n     <path d=\"M 45.40625 27.984375 \r\nQ 45.40625 37.75 41.375 43.109375 \r\nQ 37.359375 48.484375 30.078125 48.484375 \r\nQ 22.859375 48.484375 18.828125 43.109375 \r\nQ 14.796875 37.75 14.796875 27.984375 \r\nQ 14.796875 18.265625 18.828125 12.890625 \r\nQ 22.859375 7.515625 30.078125 7.515625 \r\nQ 37.359375 7.515625 41.375 12.890625 \r\nQ 45.40625 18.265625 45.40625 27.984375 \r\nz\r\nM 54.390625 6.78125 \r\nQ 54.390625 -7.171875 48.1875 -13.984375 \r\nQ 42 -20.796875 29.203125 -20.796875 \r\nQ 24.46875 -20.796875 20.265625 -20.09375 \r\nQ 16.0625 -19.390625 12.109375 -17.921875 \r\nL 12.109375 -9.1875 \r\nQ 16.0625 -11.328125 19.921875 -12.34375 \r\nQ 23.78125 -13.375 27.78125 -13.375 \r\nQ 36.625 -13.375 41.015625 -8.765625 \r\nQ 45.40625 -4.15625 45.40625 5.171875 \r\nL 45.40625 9.625 \r\nQ 42.625 4.78125 38.28125 2.390625 \r\nQ 33.9375 0 27.875 0 \r\nQ 17.828125 0 11.671875 7.65625 \r\nQ 5.515625 15.328125 5.515625 27.984375 \r\nQ 5.515625 40.671875 11.671875 48.328125 \r\nQ 17.828125 56 27.875 56 \r\nQ 33.9375 56 38.28125 53.609375 \r\nQ 42.625 51.21875 45.40625 46.390625 \r\nL 45.40625 54.6875 \r\nL 54.390625 54.6875 \r\nz\r\n\" id=\"DejaVuSans-67\"/>\r\n     <path d=\"M 10.59375 45.40625 \r\nL 73.1875 45.40625 \r\nL 73.1875 37.203125 \r\nL 10.59375 37.203125 \r\nz\r\nM 10.59375 25.484375 \r\nL 73.1875 25.484375 \r\nL 73.1875 17.1875 \r\nL 10.59375 17.1875 \r\nz\r\n\" id=\"DejaVuSans-3d\"/>\r\n     <path d=\"M 10.984375 1.515625 \r\nL 10.984375 10.5 \r\nQ 14.703125 8.734375 18.5 7.8125 \r\nQ 22.3125 6.890625 25.984375 6.890625 \r\nQ 35.75 6.890625 40.890625 13.453125 \r\nQ 46.046875 20.015625 46.78125 33.40625 \r\nQ 43.953125 29.203125 39.59375 26.953125 \r\nQ 35.25 24.703125 29.984375 24.703125 \r\nQ 19.046875 24.703125 12.671875 31.3125 \r\nQ 6.296875 37.9375 6.296875 49.421875 \r\nQ 6.296875 60.640625 12.9375 67.421875 \r\nQ 19.578125 74.21875 30.609375 74.21875 \r\nQ 43.265625 74.21875 49.921875 64.515625 \r\nQ 56.59375 54.828125 56.59375 36.375 \r\nQ 56.59375 19.140625 48.40625 8.859375 \r\nQ 40.234375 -1.421875 26.421875 -1.421875 \r\nQ 22.703125 -1.421875 18.890625 -0.6875 \r\nQ 15.09375 0.046875 10.984375 1.515625 \r\nz\r\nM 30.609375 32.421875 \r\nQ 37.25 32.421875 41.125 36.953125 \r\nQ 45.015625 41.5 45.015625 49.421875 \r\nQ 45.015625 57.28125 41.125 61.84375 \r\nQ 37.25 66.40625 30.609375 66.40625 \r\nQ 23.96875 66.40625 20.09375 61.84375 \r\nQ 16.21875 57.28125 16.21875 49.421875 \r\nQ 16.21875 41.5 20.09375 36.953125 \r\nQ 23.96875 32.421875 30.609375 32.421875 \r\nz\r\n\" id=\"DejaVuSans-39\"/>\r\n    </defs>\r\n    <g transform=\"translate(146.717813 16.318125)scale(0.12 -0.12)\">\r\n     <use xlink:href=\"#DejaVuSans-4c\"/>\r\n     <use x=\"55.697266\" xlink:href=\"#DejaVuSans-65\"/>\r\n     <use x=\"117.220703\" xlink:href=\"#DejaVuSans-61\"/>\r\n     <use x=\"178.5\" xlink:href=\"#DejaVuSans-72\"/>\r\n     <use x=\"219.597656\" xlink:href=\"#DejaVuSans-6e\"/>\r\n     <use x=\"282.976562\" xlink:href=\"#DejaVuSans-69\"/>\r\n     <use x=\"310.759766\" xlink:href=\"#DejaVuSans-6e\"/>\r\n     <use x=\"374.138672\" xlink:href=\"#DejaVuSans-67\"/>\r\n     <use x=\"437.615234\" xlink:href=\"#DejaVuSans-20\"/>\r\n     <use x=\"469.402344\" xlink:href=\"#DejaVuSans-72\"/>\r\n     <use x=\"510.515625\" xlink:href=\"#DejaVuSans-61\"/>\r\n     <use x=\"571.794922\" xlink:href=\"#DejaVuSans-74\"/>\r\n     <use x=\"611.003906\" xlink:href=\"#DejaVuSans-65\"/>\r\n     <use x=\"672.527344\" xlink:href=\"#DejaVuSans-20\"/>\r\n     <use x=\"704.314453\" xlink:href=\"#DejaVuSans-3d\"/>\r\n     <use x=\"788.103516\" xlink:href=\"#DejaVuSans-30\"/>\r\n     <use x=\"851.726562\" xlink:href=\"#DejaVuSans-2e\"/>\r\n     <use x=\"883.513672\" xlink:href=\"#DejaVuSans-30\"/>\r\n     <use x=\"947.136719\" xlink:href=\"#DejaVuSans-30\"/>\r\n     <use x=\"1010.759766\" xlink:href=\"#DejaVuSans-39\"/>\r\n    </g>\r\n   </g>\r\n  </g>\r\n </g>\r\n <defs>\r\n  <clipPath id=\"p2d0b1d4fd0\">\r\n   <rect height=\"217.44\" width=\"334.8\" x=\"43.78125\" y=\"22.318125\"/>\r\n  </clipPath>\r\n </defs>\r\n</svg>\r\n"
     },
     "metadata": {}
    },
    {
     "output_type": "stream",
     "name": "stdout",
     "text": [
      "Tensor(\"Mean_1:0\", shape=(), dtype=float32)\n",
      "Train Accuracy: 0.868519\n",
      "Test Accuracy: 0.733333\n"
     ]
    }
   ],
   "source": [
    "_, _, parameters = model(X_train, Y_train, X_test, Y_test)"
   ]
  },
  {
   "cell_type": "markdown",
   "metadata": {},
   "source": [
    "**Expected output**: although it may not match perfectly, your expected output should be close to ours and your cost value should decrease.\n",
    "\n",
    "<table> \n",
    "<tr>\n",
    "    <td> \n",
    "    **Cost after epoch 0 =**\n",
    "    </td>\n",
    "\n",
    "    <td> \n",
    "     1.921332\n",
    "    </td> \n",
    "</tr>\n",
    "<tr>\n",
    "    <td> \n",
    "    **Cost after epoch 5 =**\n",
    "    </td>\n",
    "\n",
    "    <td> \n",
    "      1.904156\n",
    "    </td> \n",
    "</tr>\n",
    "<tr>\n",
    "    <td> \n",
    "    **Train Accuracy   =**\n",
    "    </td>\n",
    "\n",
    "    <td> \n",
    "     0.65833336\n",
    "    </td> \n",
    "</tr> \n",
    "\n",
    "<tr>\n",
    "    <td> \n",
    "    **Test Accuracy   =**\n",
    "    </td>\n",
    "\n",
    "    <td> \n",
    "      0.5416667\n",
    "    </td> \n",
    "</tr> \n",
    "</table>"
   ]
  },
  {
   "cell_type": "markdown",
   "metadata": {},
   "source": [
    "Congratulations! You have finised the assignment and built a model that recognizes SIGN language with almost 80% accuracy on the test set. If you wish, feel free to play around with this dataset further. You can actually improve its accuracy by spending more time tuning the hyperparameters, or using regularization (as this model clearly has a high variance). \n",
    "\n",
    "Once again, here's a thumbs up for your work! "
   ]
  },
  {
   "cell_type": "code",
   "execution_count": 24,
   "metadata": {
    "collapsed": true,
    "jupyter": {
     "outputs_hidden": true
    }
   },
   "outputs": [
    {
     "output_type": "execute_result",
     "data": {
      "text/plain": [
       "<matplotlib.image.AxesImage at 0x1649081bf98>"
      ]
     },
     "metadata": {},
     "execution_count": 24
    },
    {
     "output_type": "display_data",
     "data": {
      "image/png": "[encoded data removed]",
      "text/plain": "<matplotlib.figure.Figure at 0x1648fd68438>",
      "image/svg+xml": "<?xml version=\"1.0\" encoding=\"utf-8\" standalone=\"no\"?>\r\n<!DOCTYPE svg PUBLIC \"-//W3C//DTD SVG 1.1//EN\"\r\n  \"http://www.w3.org/Graphics/SVG/1.1/DTD/svg11.dtd\">\r\n<!-- Created with matplotlib (http://matplotlib.org/) -->\r\n<svg height=\"252pt\" version=\"1.1\" viewBox=\"0 0 255 252\" width=\"255pt\" xmlns=\"http://www.w3.org/2000/svg\" xmlns:xlink=\"http://www.w3.org/1999/xlink\">\r\n <defs>\r\n  <style type=\"text/css\">\r\n*{stroke-linecap:butt;stroke-linejoin:round;}\r\n  </style>\r\n </defs>\r\n <g id=\"figure_1\">\r\n  <g id=\"patch_1\">\r\n   <path d=\"M 0 252.018125 \r\nL 255.065 252.018125 \r\nL 255.065 0 \r\nL 0 0 \r\nz\r\n\" style=\"fill:none;\"/>\r\n  </g>\r\n  <g id=\"axes_1\">\r\n   <g id=\"patch_2\">\r\n    <path d=\"M 26.925 228.14 \r\nL 244.365 228.14 \r\nL 244.365 10.7 \r\nL 26.925 10.7 \r\nz\r\n\" style=\"fill:#ffffff;\"/>\r\n   </g>\r\n   <g clip-path=\"url(#p375c87f67d)\">\r\n    <image height=\"218\" id=\"imagea40b349f39\" transform=\"scale(1 -1)translate(0 -218)\" width=\"218\" x=\"26.925\" xlink:href=\"data:image/png;base64,\r\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\" y=\"-10.14\"/>\r\n   </g>\r\n   <g id=\"matplotlib.axis_1\">\r\n    <g id=\"xtick_1\">\r\n     <g id=\"line2d_1\">\r\n      <defs>\r\n       <path d=\"M 0 0 \r\nL 0 3.5 \r\n\" id=\"mbedc6fb933\" style=\"stroke:#000000;stroke-width:0.8;\"/>\r\n      </defs>\r\n      <g>\r\n       <use style=\"stroke:#000000;stroke-width:0.8;\" x=\"28.62375\" xlink:href=\"#mbedc6fb933\" y=\"228.14\"/>\r\n      </g>\r\n     </g>\r\n     <g id=\"text_1\">\r\n      <!-- 0 -->\r\n      <defs>\r\n       <path d=\"M 31.78125 66.40625 \r\nQ 24.171875 66.40625 20.328125 58.90625 \r\nQ 16.5 51.421875 16.5 36.375 \r\nQ 16.5 21.390625 20.328125 13.890625 \r\nQ 24.171875 6.390625 31.78125 6.390625 \r\nQ 39.453125 6.390625 43.28125 13.890625 \r\nQ 47.125 21.390625 47.125 36.375 \r\nQ 47.125 51.421875 43.28125 58.90625 \r\nQ 39.453125 66.40625 31.78125 66.40625 \r\nz\r\nM 31.78125 74.21875 \r\nQ 44.046875 74.21875 50.515625 64.515625 \r\nQ 56.984375 54.828125 56.984375 36.375 \r\nQ 56.984375 17.96875 50.515625 8.265625 \r\nQ 44.046875 -1.421875 31.78125 -1.421875 \r\nQ 19.53125 -1.421875 13.0625 8.265625 \r\nQ 6.59375 17.96875 6.59375 36.375 \r\nQ 6.59375 54.828125 13.0625 64.515625 \r\nQ 19.53125 74.21875 31.78125 74.21875 \r\nz\r\n\" id=\"DejaVuSans-30\"/>\r\n      </defs>\r\n      <g transform=\"translate(25.4425 242.738437)scale(0.1 -0.1)\">\r\n       <use xlink:href=\"#DejaVuSans-30\"/>\r\n      </g>\r\n     </g>\r\n    </g>\r\n    <g id=\"xtick_2\">\r\n     <g id=\"line2d_2\">\r\n      <g>\r\n       <use style=\"stroke:#000000;stroke-width:0.8;\" x=\"62.59875\" xlink:href=\"#mbedc6fb933\" y=\"228.14\"/>\r\n      </g>\r\n     </g>\r\n     <g id=\"text_2\">\r\n      <!-- 10 -->\r\n      <defs>\r\n       <path d=\"M 12.40625 8.296875 \r\nL 28.515625 8.296875 \r\nL 28.515625 63.921875 \r\nL 10.984375 60.40625 \r\nL 10.984375 69.390625 \r\nL 28.421875 72.90625 \r\nL 38.28125 72.90625 \r\nL 38.28125 8.296875 \r\nL 54.390625 8.296875 \r\nL 54.390625 0 \r\nL 12.40625 0 \r\nz\r\n\" id=\"DejaVuSans-31\"/>\r\n      </defs>\r\n      <g transform=\"translate(56.23625 242.738437)scale(0.1 -0.1)\">\r\n       <use xlink:href=\"#DejaVuSans-31\"/>\r\n       <use x=\"63.623047\" xlink:href=\"#DejaVuSans-30\"/>\r\n      </g>\r\n     </g>\r\n    </g>\r\n    <g id=\"xtick_3\">\r\n     <g id=\"line2d_3\">\r\n      <g>\r\n       <use style=\"stroke:#000000;stroke-width:0.8;\" x=\"96.57375\" xlink:href=\"#mbedc6fb933\" y=\"228.14\"/>\r\n      </g>\r\n     </g>\r\n     <g id=\"text_3\">\r\n      <!-- 20 -->\r\n      <defs>\r\n       <path d=\"M 19.1875 8.296875 \r\nL 53.609375 8.296875 \r\nL 53.609375 0 \r\nL 7.328125 0 \r\nL 7.328125 8.296875 \r\nQ 12.9375 14.109375 22.625 23.890625 \r\nQ 32.328125 33.6875 34.8125 36.53125 \r\nQ 39.546875 41.84375 41.421875 45.53125 \r\nQ 43.3125 49.21875 43.3125 52.78125 \r\nQ 43.3125 58.59375 39.234375 62.25 \r\nQ 35.15625 65.921875 28.609375 65.921875 \r\nQ 23.96875 65.921875 18.8125 64.3125 \r\nQ 13.671875 62.703125 7.8125 59.421875 \r\nL 7.8125 69.390625 \r\nQ 13.765625 71.78125 18.9375 73 \r\nQ 24.125 74.21875 28.421875 74.21875 \r\nQ 39.75 74.21875 46.484375 68.546875 \r\nQ 53.21875 62.890625 53.21875 53.421875 \r\nQ 53.21875 48.921875 51.53125 44.890625 \r\nQ 49.859375 40.875 45.40625 35.40625 \r\nQ 44.1875 33.984375 37.640625 27.21875 \r\nQ 31.109375 20.453125 19.1875 8.296875 \r\nz\r\n\" id=\"DejaVuSans-32\"/>\r\n      </defs>\r\n      <g transform=\"translate(90.21125 242.738437)scale(0.1 -0.1)\">\r\n       <use xlink:href=\"#DejaVuSans-32\"/>\r\n       <use x=\"63.623047\" xlink:href=\"#DejaVuSans-30\"/>\r\n      </g>\r\n     </g>\r\n    </g>\r\n    <g id=\"xtick_4\">\r\n     <g id=\"line2d_4\">\r\n      <g>\r\n       <use style=\"stroke:#000000;stroke-width:0.8;\" x=\"130.54875\" xlink:href=\"#mbedc6fb933\" y=\"228.14\"/>\r\n      </g>\r\n     </g>\r\n     <g id=\"text_4\">\r\n      <!-- 30 -->\r\n      <defs>\r\n       <path d=\"M 40.578125 39.3125 \r\nQ 47.65625 37.796875 51.625 33 \r\nQ 55.609375 28.21875 55.609375 21.1875 \r\nQ 55.609375 10.40625 48.1875 4.484375 \r\nQ 40.765625 -1.421875 27.09375 -1.421875 \r\nQ 22.515625 -1.421875 17.65625 -0.515625 \r\nQ 12.796875 0.390625 7.625 2.203125 \r\nL 7.625 11.71875 \r\nQ 11.71875 9.328125 16.59375 8.109375 \r\nQ 21.484375 6.890625 26.8125 6.890625 \r\nQ 36.078125 6.890625 40.9375 10.546875 \r\nQ 45.796875 14.203125 45.796875 21.1875 \r\nQ 45.796875 27.640625 41.28125 31.265625 \r\nQ 36.765625 34.90625 28.71875 34.90625 \r\nL 20.21875 34.90625 \r\nL 20.21875 43.015625 \r\nL 29.109375 43.015625 \r\nQ 36.375 43.015625 40.234375 45.921875 \r\nQ 44.09375 48.828125 44.09375 54.296875 \r\nQ 44.09375 59.90625 40.109375 62.90625 \r\nQ 36.140625 65.921875 28.71875 65.921875 \r\nQ 24.65625 65.921875 20.015625 65.03125 \r\nQ 15.375 64.15625 9.8125 62.3125 \r\nL 9.8125 71.09375 \r\nQ 15.4375 72.65625 20.34375 73.4375 \r\nQ 25.25 74.21875 29.59375 74.21875 \r\nQ 40.828125 74.21875 47.359375 69.109375 \r\nQ 53.90625 64.015625 53.90625 55.328125 \r\nQ 53.90625 49.265625 50.4375 45.09375 \r\nQ 46.96875 40.921875 40.578125 39.3125 \r\nz\r\n\" id=\"DejaVuSans-33\"/>\r\n      </defs>\r\n      <g transform=\"translate(124.18625 242.738437)scale(0.1 -0.1)\">\r\n       <use xlink:href=\"#DejaVuSans-33\"/>\r\n       <use x=\"63.623047\" xlink:href=\"#DejaVuSans-30\"/>\r\n      </g>\r\n     </g>\r\n    </g>\r\n    <g id=\"xtick_5\">\r\n     <g id=\"line2d_5\">\r\n      <g>\r\n       <use style=\"stroke:#000000;stroke-width:0.8;\" x=\"164.52375\" xlink:href=\"#mbedc6fb933\" y=\"228.14\"/>\r\n      </g>\r\n     </g>\r\n     <g id=\"text_5\">\r\n      <!-- 40 -->\r\n      <defs>\r\n       <path d=\"M 37.796875 64.3125 \r\nL 12.890625 25.390625 \r\nL 37.796875 25.390625 \r\nz\r\nM 35.203125 72.90625 \r\nL 47.609375 72.90625 \r\nL 47.609375 25.390625 \r\nL 58.015625 25.390625 \r\nL 58.015625 17.1875 \r\nL 47.609375 17.1875 \r\nL 47.609375 0 \r\nL 37.796875 0 \r\nL 37.796875 17.1875 \r\nL 4.890625 17.1875 \r\nL 4.890625 26.703125 \r\nz\r\n\" id=\"DejaVuSans-34\"/>\r\n      </defs>\r\n      <g transform=\"translate(158.16125 242.738437)scale(0.1 -0.1)\">\r\n       <use xlink:href=\"#DejaVuSans-34\"/>\r\n       <use x=\"63.623047\" xlink:href=\"#DejaVuSans-30\"/>\r\n      </g>\r\n     </g>\r\n    </g>\r\n    <g id=\"xtick_6\">\r\n     <g id=\"line2d_6\">\r\n      <g>\r\n       <use style=\"stroke:#000000;stroke-width:0.8;\" x=\"198.49875\" xlink:href=\"#mbedc6fb933\" y=\"228.14\"/>\r\n      </g>\r\n     </g>\r\n     <g id=\"text_6\">\r\n      <!-- 50 -->\r\n      <defs>\r\n       <path d=\"M 10.796875 72.90625 \r\nL 49.515625 72.90625 \r\nL 49.515625 64.59375 \r\nL 19.828125 64.59375 \r\nL 19.828125 46.734375 \r\nQ 21.96875 47.46875 24.109375 47.828125 \r\nQ 26.265625 48.1875 28.421875 48.1875 \r\nQ 40.625 48.1875 47.75 41.5 \r\nQ 54.890625 34.8125 54.890625 23.390625 \r\nQ 54.890625 11.625 47.5625 5.09375 \r\nQ 40.234375 -1.421875 26.90625 -1.421875 \r\nQ 22.3125 -1.421875 17.546875 -0.640625 \r\nQ 12.796875 0.140625 7.71875 1.703125 \r\nL 7.71875 11.625 \r\nQ 12.109375 9.234375 16.796875 8.0625 \r\nQ 21.484375 6.890625 26.703125 6.890625 \r\nQ 35.15625 6.890625 40.078125 11.328125 \r\nQ 45.015625 15.765625 45.015625 23.390625 \r\nQ 45.015625 31 40.078125 35.4375 \r\nQ 35.15625 39.890625 26.703125 39.890625 \r\nQ 22.75 39.890625 18.8125 39.015625 \r\nQ 14.890625 38.140625 10.796875 36.28125 \r\nz\r\n\" id=\"DejaVuSans-35\"/>\r\n      </defs>\r\n      <g transform=\"translate(192.13625 242.738437)scale(0.1 -0.1)\">\r\n       <use xlink:href=\"#DejaVuSans-35\"/>\r\n       <use x=\"63.623047\" xlink:href=\"#DejaVuSans-30\"/>\r\n      </g>\r\n     </g>\r\n    </g>\r\n    <g id=\"xtick_7\">\r\n     <g id=\"line2d_7\">\r\n      <g>\r\n       <use style=\"stroke:#000000;stroke-width:0.8;\" x=\"232.47375\" xlink:href=\"#mbedc6fb933\" y=\"228.14\"/>\r\n      </g>\r\n     </g>\r\n     <g id=\"text_7\">\r\n      <!-- 60 -->\r\n      <defs>\r\n       <path d=\"M 33.015625 40.375 \r\nQ 26.375 40.375 22.484375 35.828125 \r\nQ 18.609375 31.296875 18.609375 23.390625 \r\nQ 18.609375 15.53125 22.484375 10.953125 \r\nQ 26.375 6.390625 33.015625 6.390625 \r\nQ 39.65625 6.390625 43.53125 10.953125 \r\nQ 47.40625 15.53125 47.40625 23.390625 \r\nQ 47.40625 31.296875 43.53125 35.828125 \r\nQ 39.65625 40.375 33.015625 40.375 \r\nz\r\nM 52.59375 71.296875 \r\nL 52.59375 62.3125 \r\nQ 48.875 64.0625 45.09375 64.984375 \r\nQ 41.3125 65.921875 37.59375 65.921875 \r\nQ 27.828125 65.921875 22.671875 59.328125 \r\nQ 17.53125 52.734375 16.796875 39.40625 \r\nQ 19.671875 43.65625 24.015625 45.921875 \r\nQ 28.375 48.1875 33.59375 48.1875 \r\nQ 44.578125 48.1875 50.953125 41.515625 \r\nQ 57.328125 34.859375 57.328125 23.390625 \r\nQ 57.328125 12.15625 50.6875 5.359375 \r\nQ 44.046875 -1.421875 33.015625 -1.421875 \r\nQ 20.359375 -1.421875 13.671875 8.265625 \r\nQ 6.984375 17.96875 6.984375 36.375 \r\nQ 6.984375 53.65625 15.1875 63.9375 \r\nQ 23.390625 74.21875 37.203125 74.21875 \r\nQ 40.921875 74.21875 44.703125 73.484375 \r\nQ 48.484375 72.75 52.59375 71.296875 \r\nz\r\n\" id=\"DejaVuSans-36\"/>\r\n      </defs>\r\n      <g transform=\"translate(226.11125 242.738437)scale(0.1 -0.1)\">\r\n       <use xlink:href=\"#DejaVuSans-36\"/>\r\n       <use x=\"63.623047\" xlink:href=\"#DejaVuSans-30\"/>\r\n      </g>\r\n     </g>\r\n    </g>\r\n   </g>\r\n   <g id=\"matplotlib.axis_2\">\r\n    <g id=\"ytick_1\">\r\n     <g id=\"line2d_8\">\r\n      <defs>\r\n       <path d=\"M 0 0 \r\nL -3.5 0 \r\n\" id=\"me2762758d8\" style=\"stroke:#000000;stroke-width:0.8;\"/>\r\n      </defs>\r\n      <g>\r\n       <use style=\"stroke:#000000;stroke-width:0.8;\" x=\"26.925\" xlink:href=\"#me2762758d8\" y=\"12.39875\"/>\r\n      </g>\r\n     </g>\r\n     <g id=\"text_8\">\r\n      <!-- 0 -->\r\n      <g transform=\"translate(13.5625 16.197969)scale(0.1 -0.1)\">\r\n       <use xlink:href=\"#DejaVuSans-30\"/>\r\n      </g>\r\n     </g>\r\n    </g>\r\n    <g id=\"ytick_2\">\r\n     <g id=\"line2d_9\">\r\n      <g>\r\n       <use style=\"stroke:#000000;stroke-width:0.8;\" x=\"26.925\" xlink:href=\"#me2762758d8\" y=\"46.37375\"/>\r\n      </g>\r\n     </g>\r\n     <g id=\"text_9\">\r\n      <!-- 10 -->\r\n      <g transform=\"translate(7.2 50.172969)scale(0.1 -0.1)\">\r\n       <use xlink:href=\"#DejaVuSans-31\"/>\r\n       <use x=\"63.623047\" xlink:href=\"#DejaVuSans-30\"/>\r\n      </g>\r\n     </g>\r\n    </g>\r\n    <g id=\"ytick_3\">\r\n     <g id=\"line2d_10\">\r\n      <g>\r\n       <use style=\"stroke:#000000;stroke-width:0.8;\" x=\"26.925\" xlink:href=\"#me2762758d8\" y=\"80.34875\"/>\r\n      </g>\r\n     </g>\r\n     <g id=\"text_10\">\r\n      <!-- 20 -->\r\n      <g transform=\"translate(7.2 84.147969)scale(0.1 -0.1)\">\r\n       <use xlink:href=\"#DejaVuSans-32\"/>\r\n       <use x=\"63.623047\" xlink:href=\"#DejaVuSans-30\"/>\r\n      </g>\r\n     </g>\r\n    </g>\r\n    <g id=\"ytick_4\">\r\n     <g id=\"line2d_11\">\r\n      <g>\r\n       <use style=\"stroke:#000000;stroke-width:0.8;\" x=\"26.925\" xlink:href=\"#me2762758d8\" y=\"114.32375\"/>\r\n      </g>\r\n     </g>\r\n     <g id=\"text_11\">\r\n      <!-- 30 -->\r\n      <g transform=\"translate(7.2 118.122969)scale(0.1 -0.1)\">\r\n       <use xlink:href=\"#DejaVuSans-33\"/>\r\n       <use x=\"63.623047\" xlink:href=\"#DejaVuSans-30\"/>\r\n      </g>\r\n     </g>\r\n    </g>\r\n    <g id=\"ytick_5\">\r\n     <g id=\"line2d_12\">\r\n      <g>\r\n       <use style=\"stroke:#000000;stroke-width:0.8;\" x=\"26.925\" xlink:href=\"#me2762758d8\" y=\"148.29875\"/>\r\n      </g>\r\n     </g>\r\n     <g id=\"text_12\">\r\n      <!-- 40 -->\r\n      <g transform=\"translate(7.2 152.097969)scale(0.1 -0.1)\">\r\n       <use xlink:href=\"#DejaVuSans-34\"/>\r\n       <use x=\"63.623047\" xlink:href=\"#DejaVuSans-30\"/>\r\n      </g>\r\n     </g>\r\n    </g>\r\n    <g id=\"ytick_6\">\r\n     <g id=\"line2d_13\">\r\n      <g>\r\n       <use style=\"stroke:#000000;stroke-width:0.8;\" x=\"26.925\" xlink:href=\"#me2762758d8\" y=\"182.27375\"/>\r\n      </g>\r\n     </g>\r\n     <g id=\"text_13\">\r\n      <!-- 50 -->\r\n      <g transform=\"translate(7.2 186.072969)scale(0.1 -0.1)\">\r\n       <use xlink:href=\"#DejaVuSans-35\"/>\r\n       <use x=\"63.623047\" xlink:href=\"#DejaVuSans-30\"/>\r\n      </g>\r\n     </g>\r\n    </g>\r\n    <g id=\"ytick_7\">\r\n     <g id=\"line2d_14\">\r\n      <g>\r\n       <use style=\"stroke:#000000;stroke-width:0.8;\" x=\"26.925\" xlink:href=\"#me2762758d8\" y=\"216.24875\"/>\r\n      </g>\r\n     </g>\r\n     <g id=\"text_14\">\r\n      <!-- 60 -->\r\n      <g transform=\"translate(7.2 220.047969)scale(0.1 -0.1)\">\r\n       <use xlink:href=\"#DejaVuSans-36\"/>\r\n       <use x=\"63.623047\" xlink:href=\"#DejaVuSans-30\"/>\r\n      </g>\r\n     </g>\r\n    </g>\r\n   </g>\r\n   <g id=\"patch_3\">\r\n    <path d=\"M 26.925 228.14 \r\nL 26.925 10.7 \r\n\" style=\"fill:none;stroke:#000000;stroke-linecap:square;stroke-linejoin:miter;stroke-width:0.8;\"/>\r\n   </g>\r\n   <g id=\"patch_4\">\r\n    <path d=\"M 244.365 228.14 \r\nL 244.365 10.7 \r\n\" style=\"fill:none;stroke:#000000;stroke-linecap:square;stroke-linejoin:miter;stroke-width:0.8;\"/>\r\n   </g>\r\n   <g id=\"patch_5\">\r\n    <path d=\"M 26.925 228.14 \r\nL 244.365 228.14 \r\n\" style=\"fill:none;stroke:#000000;stroke-linecap:square;stroke-linejoin:miter;stroke-width:0.8;\"/>\r\n   </g>\r\n   <g id=\"patch_6\">\r\n    <path d=\"M 26.925 10.7 \r\nL 244.365 10.7 \r\n\" style=\"fill:none;stroke:#000000;stroke-linecap:square;stroke-linejoin:miter;stroke-width:0.8;\"/>\r\n   </g>\r\n  </g>\r\n </g>\r\n <defs>\r\n  <clipPath id=\"p375c87f67d\">\r\n   <rect height=\"217.44\" width=\"217.44\" x=\"26.925\" y=\"10.7\"/>\r\n  </clipPath>\r\n </defs>\r\n</svg>\r\n"
     },
     "metadata": {}
    }
   ],
   "source": [
    "fname = \"images/thumbs_up.jpg\"\n",
    "image = np.array(plt.imread(fname))\n",
    "from skimage.transform import resize\n",
    "my_image=resize(image,output_shape=(64,64))\n",
    "plt.imshow(my_image)"
   ]
  },
  {
   "cell_type": "code",
   "execution_count": null,
   "metadata": {},
   "outputs": [],
   "source": []
  }
 ],
 "metadata": {
  "coursera": {
   "course_slug": "convolutional-neural-networks",
   "graded_item_id": "bwbJV",
   "launcher_item_id": "0TkXB"
  },
  "kernelspec": {
   "name": "python3",
   "display_name": "Python 3.5.6 64-bit ('tensorflow': conda)",
   "metadata": {
    "interpreter": {
     "hash": "eabdd77801b2aee796f37bfadb8ead882e77913317062787ce548b987d526b7c"
    }
   }
  },
  "language_info": {
   "codemirror_mode": {
    "name": "ipython",
    "version": 3
   },
   "file_extension": ".py",
   "mimetype": "text/x-python",
   "name": "python",
   "nbconvert_exporter": "python",
   "pygments_lexer": "ipython3",
   "version": "3.5.6-final"
  }
 },
 "nbformat": 4,
 "nbformat_minor": 4
}