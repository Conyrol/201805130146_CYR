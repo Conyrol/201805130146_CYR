{
 "metadata": {
  "language_info": {
   "codemirror_mode": {
    "name": "ipython",
    "version": 3
   },
   "file_extension": ".py",
   "mimetype": "text/x-python",
   "name": "python",
   "nbconvert_exporter": "python",
   "pygments_lexer": "ipython3",
   "version": "3.7.7-final"
  },
  "orig_nbformat": 2,
  "kernelspec": {
   "name": "python_defaultSpec_1600439263922",
   "display_name": "Python 3.7.7 64-bit ('ml': conda)"
  }
 },
 "nbformat": 4,
 "nbformat_minor": 2,
 "cells": [
  {
   "source": [
    "导入 pytorch 库"
   ],
   "cell_type": "markdown",
   "metadata": {}
  },
  {
   "source": [
    "import torch"
   ],
   "cell_type": "code",
   "metadata": {
    "tags": []
   },
   "execution_count": 12,
   "outputs": []
  },
  {
   "source": [
    "生成张量矩阵"
   ],
   "cell_type": "markdown",
   "metadata": {}
  },
  {
   "cell_type": "code",
   "execution_count": 28,
   "metadata": {
    "tags": []
   },
   "outputs": [
    {
     "output_type": "stream",
     "name": "stdout",
     "text": "tensor([[1., 1., 1., 1., 1.],\n        [1., 1., 1., 1., 1.],\n        [1., 1., 1., 1., 1.],\n        [1., 1., 1., 1., 1.]])\ntensor([[ 0.0547,  0.5870, -0.5169, -1.3087, -0.7692],\n        [ 0.4217,  0.1433, -1.5285, -0.1153, -0.0694],\n        [-1.9810, -1.5888, -0.7454, -0.6610, -1.0191],\n        [ 2.1525,  0.4409,  0.3594, -1.9272,  1.5251]])\ntorch.Size([4, 5]) torch.Size([4, 5])\n"
    }
   ],
   "source": [
    "height = 4\n",
    "width = 5\n",
    "type = torch.float\n",
    "x = torch.zeros(height, width, dtype = type)\n",
    "x = torch.rand(height, width)\n",
    "print(x.new_ones(height, width))\n",
    "print(torch.randn_like(x, dtype = torch.float))\n",
    "print(x.size(), x.shape)        # 返回 height, width"
   ]
  },
  {
   "source": [
    "利用 view 函数重塑张量"
   ],
   "cell_type": "markdown",
   "metadata": {}
  },
  {
   "cell_type": "code",
   "execution_count": 29,
   "metadata": {
    "tags": []
   },
   "outputs": [
    {
     "output_type": "stream",
     "name": "stdout",
     "text": "tensor([0.5915, 0.8367, 0.9751, 0.4737, 0.1089, 0.5773, 0.0857, 0.8377, 0.7627,\n        0.7098, 0.1919, 0.6099, 0.2173, 0.6880, 0.1656, 0.7736, 0.1788, 0.1442,\n        0.7041, 0.6251])\ntensor([[0.5915, 0.8367, 0.9751, 0.4737, 0.1089, 0.5773, 0.0857, 0.8377, 0.7627,\n         0.7098],\n        [0.1919, 0.6099, 0.2173, 0.6880, 0.1656, 0.7736, 0.1788, 0.1442, 0.7041,\n         0.6251]])\n"
    }
   ],
   "source": [
    "print(x.view(20))\n",
    "print(x.view(2, 10))"
   ]
  },
  {
   "source": [
    "ndarray 和 tensor 相互转化"
   ],
   "cell_type": "markdown",
   "metadata": {}
  },
  {
   "cell_type": "code",
   "execution_count": null,
   "metadata": {},
   "outputs": [],
   "source": [
    "torch.from_numpy(tensor)    # tensor 转 ndarray"
   ]
  }
 ]
}